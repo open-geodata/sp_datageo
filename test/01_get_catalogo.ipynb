{
 "cells": [
  {
   "cell_type": "markdown",
   "id": "1bba1c90-65d7-43f5-99bd-7846d6d9b951",
   "metadata": {
    "pycharm": {
     "name": "#%% md\n"
    }
   },
   "source": [
    "<br>\n",
    "\n",
    "# Introdução\n",
    "\n",
    "- https://datageo.ambiente.sp.gov.br/navegar"
   ]
  },
  {
   "cell_type": "code",
   "execution_count": null,
   "id": "152ffa2f-dd83-421c-8ceb-612b90563e48",
   "metadata": {
    "pycharm": {
     "name": "#%%\n"
    }
   },
   "outputs": [],
   "source": [
    "#!pip3 install traquitanas --upgrade"
   ]
  },
  {
   "cell_type": "code",
   "execution_count": null,
   "id": "76a3f433-2681-4f1a-80c0-fa2a4145e518",
   "metadata": {
    "pycharm": {
     "name": "#%%\n"
    }
   },
   "outputs": [],
   "source": [
    "import time\n",
    "import math\n",
    "import pandas as pd\n",
    "from itertools import islice"
   ]
  },
  {
   "cell_type": "code",
   "execution_count": null,
   "id": "ddf2d774-5de1-42a1-bef3-85cfb19c018d",
   "metadata": {
    "pycharm": {
     "name": "#%%\n"
    }
   },
   "outputs": [],
   "source": [
    "from traquitanas import net"
   ]
  },
  {
   "cell_type": "code",
   "execution_count": null,
   "id": "953426e0",
   "metadata": {
    "pycharm": {
     "name": "#%%\n"
    }
   },
   "outputs": [],
   "source": [
    "from selenium.webdriver.common.by import By"
   ]
  },
  {
   "cell_type": "code",
   "execution_count": null,
   "id": "0b78d0ee-41ec-4bc0-95bf-ef56c49bbcba",
   "metadata": {
    "pycharm": {
     "name": "#%%\n"
    }
   },
   "outputs": [],
   "source": [
    "from paths import *"
   ]
  },
  {
   "cell_type": "code",
   "execution_count": null,
   "id": "ef666b9d",
   "metadata": {
    "pycharm": {
     "name": "#%%\n"
    }
   },
   "outputs": [],
   "source": [
    "# import os\n",
    "# import re\n",
    "# import sys\n",
    "# import json\n",
    "# import shutil\n",
    "# import zipfile\n",
    "# import requests\n",
    "# import unicodedata\n",
    "# from bs4 import BeautifulSoup\n",
    "# from selenium import webdriver\n",
    "# from selenium.webdriver import ActionChains\n",
    "# from selenium.webdriver.common.keys import Keys\n",
    "# from selenium.webdriver import DesiredCapabilities\n",
    "# from selenium.webdriver.firefox.options import Options\n",
    "# from selenium.webdriver.support.ui import WebDriverWait\n",
    "# from selenium.webdriver.support import expected_conditions as EC"
   ]
  },
  {
   "cell_type": "markdown",
   "id": "b3dce72a-aba6-4657-9ea4-db52f7866092",
   "metadata": {
    "pycharm": {
     "name": "#%% md\n"
    }
   },
   "source": [
    "<br>\n",
    "\n",
    "## Driver"
   ]
  },
  {
   "cell_type": "code",
   "execution_count": null,
   "id": "b21ca401-29a4-44bd-bb38-d8d736eeef13",
   "metadata": {
    "pycharm": {
     "name": "#%%\n"
    }
   },
   "outputs": [],
   "source": [
    "driver = net.scraping.create_driver(data_path, headless=True)"
   ]
  },
  {
   "cell_type": "markdown",
   "id": "cee824f4-7c8c-40e8-8814-2121f6975fa7",
   "metadata": {
    "pycharm": {
     "name": "#%% md\n"
    }
   },
   "source": [
    "<br>\n",
    "\n",
    "## URL"
   ]
  },
  {
   "cell_type": "code",
   "execution_count": null,
   "id": "77524646-424c-4dc1-bc99-d1e2ce023c4e",
   "metadata": {
    "pycharm": {
     "name": "#%%\n"
    }
   },
   "outputs": [],
   "source": [
    "url = 'https://datageo.ambiente.sp.gov.br/geoportal/catalog/search/browse/browse.page?'\n",
    "driver.get(url)"
   ]
  },
  {
   "cell_type": "markdown",
   "id": "db8e8ed2-c88d-4eb1-8fd3-dde8edc5972d",
   "metadata": {
    "pycharm": {
     "name": "#%% md\n"
    }
   },
   "source": [
    "<br>\n",
    "\n",
    "## Assuntos"
   ]
  },
  {
   "cell_type": "code",
   "execution_count": null,
   "id": "44c9f12e-50f4-4a74-9f26-32303d488496",
   "metadata": {
    "pycharm": {
     "name": "#%%\n"
    }
   },
   "outputs": [],
   "source": [
    "def get_subjects():\n",
    "    # Abre Catálogo\n",
    "    time.sleep(2)\n",
    "    try: driver.find_element(by=By.XPATH, value='//*[contains(@class,\"dijitTreeExpando dijitTreeExpandoClosed\")]').click()\n",
    "    except: pass\n",
    "\n",
    "    # Abre Classificação de Metadados\n",
    "    time.sleep(2)\n",
    "    try: driver.find_element(by=By.XPATH, value='//*[contains(@class,\"dijitTreeExpando dijitTreeExpandoClosed\")]').click()\n",
    "    except: pass\n",
    "\n",
    "    dict_subjects = {}\n",
    "    list_tree = driver.find_elements(by=By.XPATH, value='//*[@id=\"browse-toc\"]//*[@class=\"dijitTreeLabel\"]')\n",
    "    for i in list_tree:\n",
    "        subject = i.text\n",
    "        if subject != '' and subject != 'Catálogo' and subject != 'Classificação do Metadado':\n",
    "            dict_subjects[subject] = i\n",
    "    return dict_subjects"
   ]
  },
  {
   "cell_type": "markdown",
   "id": "aaac5859-ef6d-46e9-a0b2-36ce778eaad2",
   "metadata": {
    "pycharm": {
     "name": "#%% md\n"
    }
   },
   "source": [
    "<br>\n",
    "\n",
    "## Pages"
   ]
  },
  {
   "cell_type": "code",
   "execution_count": null,
   "id": "728296db-0e4d-47d0-827c-7420ace64786",
   "metadata": {
    "pycharm": {
     "name": "#%%\n"
    }
   },
   "outputs": [],
   "source": [
    "def get_pages():\n",
    "    time.sleep(2)\n",
    "    start_index = int(driver.find_element(by=By.XPATH, value='//*[@id=\"browse-results-body\"]//*[@id=\"startIndex\"]').get_attribute('value'))\n",
    "    items_per_page = int(driver.find_element(by=By.XPATH, value='//*[@id=\"browse-results-body\"]//*[@id=\"itemsPerPage\"]').get_attribute('value'))\n",
    "    total_results = int(driver.find_element(by=By.XPATH, value='//*[@id=\"browse-results-body\"]//*[@id=\"totalResults\"]').get_attribute('value'))\n",
    "    n_pages = math.ceil(total_results/items_per_page)\n",
    "    dict_results = {\n",
    "        'start_index': start_index,\n",
    "        'items_per_page': items_per_page,\n",
    "        'total_results': total_results,\n",
    "        'n_pages': n_pages,\n",
    "    }\n",
    "    return dict_results"
   ]
  },
  {
   "cell_type": "markdown",
   "id": "104d3af7-dcaf-4cb4-875b-d45e7059615d",
   "metadata": {
    "pycharm": {
     "name": "#%% md\n"
    }
   },
   "source": [
    "<br>\n",
    "\n",
    "## Get Infos from Itens"
   ]
  },
  {
   "cell_type": "code",
   "execution_count": null,
   "id": "1f027da8-54c6-4db4-9c01-ee8b312b1038",
   "metadata": {
    "pycharm": {
     "name": "#%%\n"
    }
   },
   "outputs": [],
   "source": [
    "def get_infos_item(item, subject):\n",
    "    # Título\n",
    "    titulo = item.find_element(by=By.XPATH, value='.//*[@class=\"title\"]').text\n",
    "\n",
    "    # Código\n",
    "    id_lyr = item.find_element(by=By.XPATH, value='.//*[@class=\"title\"]').get_attribute('id')\n",
    "\n",
    "    # Resumo\n",
    "    resumo = item.find_element(by=By.XPATH, value='.//*[@class=\"abstract\"]').text\n",
    "\n",
    "    dict_links = {\n",
    "            'Assunto': subject,\n",
    "            'Titulo': titulo,\n",
    "            'id_lyr': id_lyr,\n",
    "            'Resumo': resumo,\n",
    "            'Carregar no Visualizador': '',\n",
    "            'Metadados': '',\n",
    "            'XML': '',\n",
    "    }\n",
    "\n",
    "    # Links\n",
    "    list_links = item.find_elements(by=By.XPATH, value='.//*[@class=\"links\"]//*')\n",
    "    for link in list_links:\n",
    "        #\n",
    "        link_text = link.text\n",
    "        link_url = link.get_attribute('href')\n",
    "\n",
    "        # Loop    \n",
    "        if link_text == 'Metadados':        \n",
    "            # Input dos caminhos para os metadados\n",
    "            url_api = 'http://datageo.ambiente.sp.gov.br/geoportal/catalog/search/resource/details.page?uuid='\n",
    "            link_url = '{}{}'.format(url_api, '%7B{}%7D'.format(id_lyr.replace('{', '').replace('}', '')))\n",
    "        dict_links.update({link_text: link_url})\n",
    "    return dict_links"
   ]
  },
  {
   "cell_type": "code",
   "execution_count": null,
   "id": "053bf3a1-b280-4238-b3ec-bb4dc7105d53",
   "metadata": {
    "pycharm": {
     "name": "#%%\n"
    }
   },
   "outputs": [],
   "source": [
    "#subject = 'Clima'\n",
    "#get_infos_item(dict_subjects[subject], subject)"
   ]
  },
  {
   "cell_type": "markdown",
   "id": "73e83dc7-15e6-4c88-b952-74ee5cffcec4",
   "metadata": {
    "pycharm": {
     "name": "#%% md\n"
    }
   },
   "source": [
    "<br>\n",
    "\n",
    "## Get All Itens"
   ]
  },
  {
   "cell_type": "code",
   "execution_count": null,
   "id": "9210d8e1-141a-4ff1-9039-45edb52c9f24",
   "metadata": {
    "pycharm": {
     "name": "#%%\n"
    }
   },
   "outputs": [],
   "source": [
    "def get_all_itens(n_pages, subject):\n",
    "    # Vai para a página 1\n",
    "    try: driver.find_element(by=By.XPATH, value='//*[@id=\"browse-results-header-pageControl\"]//*[contains(text(),\"Primeiro\")]').click()\n",
    "    except: pass\n",
    "    try: driver.find_element(by=By.XPATH, value='//*[@id=\"browse-results-header-pageControl\"]//*[contains(text(),\"1\")]').click()\n",
    "    except: pass\n",
    "    time.sleep(3)\n",
    "\n",
    "    # Para cada página\n",
    "    list_itens_infos = []\n",
    "    for i in range(0, n_pages):\n",
    "        # Clicar no número da página\n",
    "        item_n = i + 1\n",
    "        driver.find_element(by=By.XPATH, value='//*[@id=\"browse-results-header-pageControl\"]//*[contains(text(),\"{}\")]'.format(item_n)).click()\n",
    "        time.sleep(1)\n",
    "\n",
    "        # Pega a lista de itens\n",
    "        list_itens = driver.find_elements(by=By.XPATH, value='//*[@id=\"browse-results-body\"]//*[@class=\"snippet\"]')\n",
    "\n",
    "        # Pega infos dos itens\n",
    "        for item in list_itens:\n",
    "            list_itens_infos.append(get_infos_item(item, subject))\n",
    "    \n",
    "    return list_itens_infos"
   ]
  },
  {
   "cell_type": "markdown",
   "id": "1bd05794-8a06-4b05-a4a5-83fdcc1fcb3b",
   "metadata": {
    "pycharm": {
     "name": "#%% md\n"
    }
   },
   "source": [
    "<br>\n",
    "\n",
    "# Run"
   ]
  },
  {
   "cell_type": "code",
   "execution_count": null,
   "id": "60a54a97-619a-44c1-a105-ab81c10e5819",
   "metadata": {
    "pycharm": {
     "name": "#%%\n"
    }
   },
   "outputs": [],
   "source": [
    "dict_subjects = get_subjects()\n",
    "dict_subjects = dict(islice(dict_subjects.items(), 2, 4))\n",
    "dict_subjects"
   ]
  },
  {
   "cell_type": "code",
   "execution_count": null,
   "id": "f80cf3c2-9592-426e-aca5-8913d1417e30",
   "metadata": {
    "pycharm": {
     "name": "#%%\n"
    }
   },
   "outputs": [],
   "source": [
    "dfs = []\n",
    "# Para cada Assunto\n",
    "for subject in dict_subjects:\n",
    "    # Vai para o Assunto\n",
    "    dict_subjects[subject].click()\n",
    "\n",
    "    # Pega informações da Página\n",
    "    info_page = get_pages()\n",
    "    n_pages = info_page['n_pages']\n",
    "    print('Assunto: \"{}\" tem {} páginas de itens, totalizando {} itens'.format(subject, n_pages, info_page['total_results']))\n",
    "\n",
    "    # Adiciona Dados\n",
    "    temp = get_all_itens(n_pages, subject)\n",
    "    dfs.append(pd.DataFrame(temp))\n",
    "\n",
    "print('Fim')"
   ]
  },
  {
   "cell_type": "code",
   "execution_count": null,
   "id": "eaeb9460-3e67-4726-9964-a9799e0617fe",
   "metadata": {
    "pycharm": {
     "name": "#%%\n"
    }
   },
   "outputs": [],
   "source": [
    "# Results\n",
    "df = pd.concat(dfs)\n",
    "df.to_csv(os.path.join(data_path, 'tab_itens.csv'), index=False)\n",
    "df.head(3)"
   ]
  },
  {
   "cell_type": "code",
   "execution_count": null,
   "id": "600fce8b-4762-455c-a2b2-8a4807d54207",
   "metadata": {
    "pycharm": {
     "name": "#%%\n"
    }
   },
   "outputs": [],
   "source": [
    "driver.quit()"
   ]
  },
  {
   "cell_type": "code",
   "execution_count": null,
   "id": "4050722e-4b2a-439f-978f-6bbd16806dc7",
   "metadata": {
    "pycharm": {
     "name": "#%%\n"
    }
   },
   "outputs": [],
   "source": []
  }
 ],
 "metadata": {
  "kernelspec": {
   "display_name": "Python 3 (ipykernel)",
   "language": "python",
   "name": "python3"
  },
  "language_info": {
   "codemirror_mode": {
    "name": "ipython",
    "version": 3
   },
   "file_extension": ".py",
   "mimetype": "text/x-python",
   "name": "python",
   "nbconvert_exporter": "python",
   "pygments_lexer": "ipython3",
   "version": "3.9.12"
  },
  "toc-autonumbering": true
 },
 "nbformat": 4,
 "nbformat_minor": 5
}
