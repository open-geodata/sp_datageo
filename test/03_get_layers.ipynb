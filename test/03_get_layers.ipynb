{
 "cells": [
  {
   "cell_type": "markdown",
   "id": "3fe9f955",
   "metadata": {
    "pycharm": {
     "name": "#%% md\n"
    }
   },
   "source": [
    "<br>\n",
    "\n",
    "# Introdução\n",
    "\n",
    "Uma vez criada uma sequencia de códigos, foi possível definir uma funão que integra todos eles, apresentada abaixo:"
   ]
  },
  {
   "cell_type": "code",
   "execution_count": null,
   "id": "d7d891ec",
   "metadata": {
    "pycharm": {
     "name": "#%%\n"
    }
   },
   "outputs": [],
   "source": [
    "import os\n",
    "import sys"
   ]
  },
  {
   "cell_type": "code",
   "execution_count": null,
   "id": "a8bbffef-d805-4311-a698-36a00c88ed42",
   "metadata": {
    "pycharm": {
     "name": "#%%\n"
    }
   },
   "outputs": [],
   "source": [
    "sys.path.append(os.path.join(os.getcwd(), '..', 'src'))\n",
    "from paths import *\n",
    "from get_data_datageo import *"
   ]
  },
  {
   "cell_type": "markdown",
   "id": "427fa01d-041b-4cc1-b75a-04f723310c6f",
   "metadata": {
    "pycharm": {
     "name": "#%% md\n"
    }
   },
   "source": [
    "<br>\n",
    "\n",
    "## Functions"
   ]
  },
  {
   "cell_type": "code",
   "execution_count": null,
   "id": "d9f27e64-b962-4a74-832b-3df40627b46d",
   "metadata": {
    "pycharm": {
     "name": "#%%\n"
    }
   },
   "outputs": [],
   "source": [
    "def save_gdf(gdf, output_path, filename):\n",
    "    # Results\n",
    "    print(gdf.dtypes)\n",
    "    display(gdf.head())    \n",
    "    \n",
    "    # Remove\n",
    "    for file in [\n",
    "        os.path.join(output_path, f'{filename}.geojson'),\n",
    "        os.path.join(output_path, f'{filename}.gpkg')\n",
    "    ]:\n",
    "        try:\n",
    "            os.remove(file)\n",
    "            print(f'{file} deletado!')\n",
    "        except OSError:\n",
    "            pass\n",
    "\n",
    "    # Salva\n",
    "    gdf.to_file(\n",
    "        os.path.join(output_path, f'{filename}.geojson'),\n",
    "        driver='GeoJSON',\n",
    "        encoding='utf-8'\n",
    "    )\n",
    "    gdf.to_file(\n",
    "        os.path.join(output_path, f'{filename}.gpkg'),\n",
    "        layer=f'{filename}',\n",
    "        driver='GPKG'\n",
    "    )"
   ]
  },
  {
   "cell_type": "markdown",
   "id": "e7a06dc0-5747-4190-bf42-d8331ac97276",
   "metadata": {},
   "source": [
    "<br>\n",
    "\n",
    "# Layers"
   ]
  },
  {
   "cell_type": "markdown",
   "id": "0b8a5f01-ca25-4af8-8de1-463645f1f859",
   "metadata": {
    "pycharm": {
     "name": "#%% md\n"
    }
   },
   "source": [
    "<br>\n",
    "\n",
    "## Limite de UGRHI"
   ]
  },
  {
   "cell_type": "code",
   "execution_count": null,
   "id": "38153a6b-bde8-406b-b58d-b5e3d9122fc9",
   "metadata": {
    "pycharm": {
     "name": "#%%\n"
    }
   },
   "outputs": [],
   "source": [
    "# Download\n",
    "id_lyr = 'A8BDF0BA-76EF-4B97-8A5E-DD4BD23117A1'\n",
    "filename = 'sp_datageo_ugrhis'\n",
    "\n",
    "# Get Data\n",
    "get_metadata_file(id_lyr, output_path_datageo, filename=filename)\n",
    "gdf = download_shapefile(id_lyr, output_path_datageo, filename=filename)\n",
    "\n",
    "# Renomeia Colunas\n",
    "gdf.rename(\n",
    "    {\n",
    "        'Codigo': 'id_ugrhi',\n",
    "        'Nome': 'nome_ugrhi',\n",
    "    },\n",
    "    axis=1,\n",
    "    inplace=True,\n",
    ")\n",
    "\n",
    "# Deleta Colunas\n",
    "gdf.drop(['fid', 'Codigo', 'Nome'], axis=1, errors='ignore', inplace=True)\n",
    "\n",
    "# Save\n",
    "save_gdf(gdf, output_path_datageo, filename)"
   ]
  },
  {
   "cell_type": "markdown",
   "id": "e8cd5a52-7c84-4d58-ad5a-11ee71155a54",
   "metadata": {
    "pycharm": {
     "name": "#%% md\n"
    }
   },
   "source": [
    "<br>\n",
    "\n",
    "## Limite das Sub-Bacias Hidrográficas do Estado de São Paulo"
   ]
  },
  {
   "cell_type": "code",
   "execution_count": null,
   "id": "1660b579-2e02-45f8-a992-8273f25ab231",
   "metadata": {
    "pycharm": {
     "name": "#%%\n"
    }
   },
   "outputs": [],
   "source": [
    "# Download\n",
    "id_lyr = '8355BBA5-018B-4B93-A5DE-A5839D0BA85A'\n",
    "filename = 'sp_datageo_subbacias'\n",
    "\n",
    "# Get Data\n",
    "get_metadata_file(id_lyr, output_path_datageo, filename=filename)\n",
    "gdf = download_shapefile(id_lyr, output_path_datageo, filename=filename)\n",
    "\n",
    "# Renomeia Colunas\n",
    "gdf.rename(\n",
    "    {\n",
    "        'NUGRHI': 'n_ugrhi',\n",
    "        'DSUBBC': 'desc_subbacia',\n",
    "    },\n",
    "    axis=1, \n",
    "    inplace=True,\n",
    ")\n",
    "\n",
    "# Save\n",
    "save_gdf(gdf, output_path_datageo, filename)"
   ]
  },
  {
   "cell_type": "markdown",
   "id": "0f7f88f5",
   "metadata": {
    "pycharm": {
     "name": "#%% md\n"
    }
   },
   "source": [
    "<br>\n",
    "\n",
    "## Sedes Municipais"
   ]
  },
  {
   "cell_type": "code",
   "execution_count": null,
   "id": "c4ded648",
   "metadata": {
    "pycharm": {
     "name": "#%%\n"
    }
   },
   "outputs": [],
   "source": [
    "# Download\n",
    "id_lyr = '64BF344A-3AD0-410A-A3AA-DFE01C4E9BBB'\n",
    "filename = 'sp_datageo_sedes'\n",
    "\n",
    "# Get Data\n",
    "get_metadata_file(id_lyr, output_path_datageo, filename=filename)\n",
    "gdf = download_shapefile(id_lyr, output_path_datageo, filename=filename)\n",
    "\n",
    "# Renomeia Colunas\n",
    "gdf.rename(\n",
    "    {\n",
    "        'Nome': 'nome_municipio'\n",
    "    },\n",
    "    axis=1, \n",
    "    inplace=True,\n",
    "    \n",
    ")\n",
    "\n",
    "# Deleta Colunas\n",
    "gdf.drop(['fid', 'Codigo_CET'], axis=1, inplace=True, errors='ignore')\n",
    "\n",
    "# Save\n",
    "save_gdf(gdf, output_path_datageo, filename)"
   ]
  },
  {
   "cell_type": "markdown",
   "id": "76eb6b65-ffd7-4240-979c-53adc6b4e24e",
   "metadata": {},
   "source": [
    "<br>\n",
    "\n",
    "## Limite Estadual"
   ]
  },
  {
   "cell_type": "code",
   "execution_count": null,
   "id": "b0716e96-7768-44b9-a652-b0eb85b234d5",
   "metadata": {},
   "outputs": [],
   "source": [
    "# Download\n",
    "id_lyr = '16BEF88B-351F-456E-AF7F-55604B194C93'\n",
    "filename = 'sp_datageo_limite_estadual'\n",
    "\n",
    "# Get Data\n",
    "get_metadata_file(id_lyr, output_path_datageo, filename=filename)\n",
    "gdf = download_shapefile(id_lyr, output_path_datageo, filename=filename)\n",
    "\n",
    "# Renomeia Colunas\n",
    "# gdf.rename(\n",
    "#     {\n",
    "#         'Cod_ibge': 'id_ibge',\n",
    "#         #'Nome': 'nome_municipio',\n",
    "#         'Rotulo': 'nome_municipio'\n",
    "#     },\n",
    "#     axis=1, \n",
    "#     inplace=True,\n",
    "# )\n",
    "\n",
    "# Deleta Colunas\n",
    "#gdf.drop(['Cod_Cetesb', 'Nome', 'UGRHI', 'Nome_ugrhi'], axis=1, inplace=True)\n",
    "\n",
    "# Save\n",
    "save_gdf(gdf, output_path_datageo, filename)"
   ]
  },
  {
   "cell_type": "markdown",
   "id": "501096c6",
   "metadata": {
    "pycharm": {
     "name": "#%% md\n"
    }
   },
   "source": [
    "<br>\n",
    "\n",
    "## Limite Municipal"
   ]
  },
  {
   "cell_type": "code",
   "execution_count": null,
   "id": "4cbcd04c",
   "metadata": {
    "pycharm": {
     "name": "#%%\n"
    }
   },
   "outputs": [],
   "source": [
    "# Download\n",
    "id_lyr = '74040682-561A-40B8-BB2F-E188B58088C1'\n",
    "filename = 'sp_datageo_limite_municipal'\n",
    "\n",
    "# Get Data\n",
    "get_metadata_file(id_lyr, output_path_datageo, filename=filename)\n",
    "gdf = download_shapefile(id_lyr, output_path_datageo, filename=filename)\n",
    "\n",
    "# Renomeia Colunas\n",
    "gdf.rename(\n",
    "    {\n",
    "        'Cod_ibge': 'id_ibge',\n",
    "        #'Nome': 'nome_municipio',\n",
    "        'Rotulo': 'nome_municipio'\n",
    "    },\n",
    "    axis=1, \n",
    "    inplace=True,\n",
    ")\n",
    "\n",
    "# Deleta Colunas\n",
    "gdf.drop(['Cod_Cetesb', 'Nome', 'UGRHI', 'Nome_ugrhi'], axis=1, inplace=True)\n",
    "\n",
    "# Save\n",
    "save_gdf(gdf, output_path_datageo, filename)"
   ]
  },
  {
   "cell_type": "markdown",
   "id": "726f710b-8e3d-434a-ad1c-bcca997ec61f",
   "metadata": {
    "pycharm": {
     "name": "#%% md\n"
    }
   },
   "source": [
    "<br>\n",
    "\n",
    "## Inventário Florestal 2000"
   ]
  },
  {
   "cell_type": "code",
   "execution_count": null,
   "id": "4be90670-0c4c-4d4a-80ae-1ad727cabced",
   "metadata": {
    "pycharm": {
     "name": "#%%\n"
    }
   },
   "outputs": [],
   "source": [
    "# Download\n",
    "id_lyr = 'DD775F9A-6F80-4E48-B5D1-6F7416FE6EC6'\n",
    "filename = 'sp_datageo_inventario_florestal_2000'\n",
    "\n",
    "# Get Data\n",
    "get_metadata_file(id_lyr, output_path_datageo, filename=filename)\n",
    "gdf = download_shapefile(id_lyr, output_path_datageo, filename=filename)\n",
    "\n",
    "# Renomeia Colunas\n",
    "gdf = gdf.rename(\n",
    "    columns={\n",
    "        'DFITFS': 'fitofisionomia',\n",
    "        'VAREA': 'area_ha'\n",
    "    }\n",
    ")\n",
    "\n",
    "# Save\n",
    "save_gdf(gdf, output_path_datageo, filename)"
   ]
  },
  {
   "cell_type": "markdown",
   "id": "5ca5b0fe-a59b-4562-8a98-15ea1ad9c43d",
   "metadata": {
    "pycharm": {
     "name": "#%% md\n"
    }
   },
   "source": [
    "<br>\n",
    "\n",
    "## Inventário Florestal 2010"
   ]
  },
  {
   "cell_type": "code",
   "execution_count": null,
   "id": "148a280b-bbaf-4a31-a3b2-e32487e4a7bf",
   "metadata": {
    "pycharm": {
     "name": "#%%\n"
    }
   },
   "outputs": [],
   "source": [
    "# Download\n",
    "id_lyr = '144EB21B-03A1-46BB-BAB9-85D2E974E182'\n",
    "filename = 'sp_datageo_inventario_florestal_2010'\n",
    "\n",
    "# Get Data\n",
    "get_metadata_file(id_lyr, output_path_datageo, filename=filename)\n",
    "gdf = download_shapefile(id_lyr, output_path_datageo, filename=filename)\n",
    "\n",
    "# Renomeia Colunas\n",
    "gdf.rename(\n",
    "    {\n",
    "        'DLEGNDMAPA': 'fitofisionomia',\n",
    "        'QAREA': 'area_ha'\n",
    "    },\n",
    "    axis=1, \n",
    "    inplace=True,\n",
    ")\n",
    "\n",
    "# Save\n",
    "save_gdf(gdf, output_path_datageo, filename)"
   ]
  },
  {
   "cell_type": "markdown",
   "id": "59ada1e6-8290-4f9b-8f12-92084547dae2",
   "metadata": {
    "pycharm": {
     "name": "#%% md\n"
    }
   },
   "source": [
    "<br>\n",
    "\n",
    "## Inventário Florestal 2020"
   ]
  },
  {
   "cell_type": "code",
   "execution_count": null,
   "id": "450aadfa",
   "metadata": {
    "pycharm": {
     "name": "#%%\n"
    }
   },
   "outputs": [],
   "source": [
    "# Download\n",
    "id_lyr = '9A45FE3D-C444-4E8D-AE3B-8037D38EF4B3'\n",
    "filename = 'sp_datageo_inventario_florestal_2020'\n",
    "\n",
    "# Get Data\n",
    "get_metadata_file(id_lyr, output_path_datageo, filename=filename)\n",
    "gdf = download_shapefile(id_lyr, output_path_datageo, filename=filename)\n",
    "\n",
    "# Renomeia Colunas\n",
    "gdf.rename(\n",
    "    {\n",
    "        'FITOFISION': 'fitofisionomia',\n",
    "        'IBGE': 'cod_ibge',\n",
    "        'AREAHA': 'area_ha',\n",
    "    },\n",
    "    axis=1,\n",
    "    inplace=True,\n",
    ")\n",
    "\n",
    "# Save\n",
    "save_gdf(gdf, output_path_datageo, filename)"
   ]
  },
  {
   "cell_type": "markdown",
   "id": "8ac68550",
   "metadata": {},
   "source": [
    "<br>\n",
    "\n",
    "## APRM"
   ]
  },
  {
   "cell_type": "code",
   "execution_count": null,
   "id": "42734fbc",
   "metadata": {},
   "outputs": [],
   "source": [
    "# Download\n",
    "id_lyr = '19DB9D6F-BD4C-4442-A8AD-65F5CFF5BCCB'\n",
    "filename = 'sp_datageo_aprm_at'\n",
    "\n",
    "# Get Data\n",
    "get_metadata_file(id_lyr, output_path_datageo, filename=filename)\n",
    "gdf = download_shapefile(id_lyr, output_path_datageo, filename=filename)\n",
    "\n",
    "# # Renomeia Colunas\n",
    "# gdf = gdf.rename(\n",
    "#     columns={\n",
    "#         'FITOFISION':'fitofisionomia',\n",
    "#         'IBGE':'cod_ibge',\n",
    "#         'AREAHA':'area_ha'\n",
    "#     }\n",
    "# )\n",
    "\n",
    "# Save\n",
    "save_gdf(gdf, output_path_datageo, filename)"
   ]
  },
  {
   "cell_type": "code",
   "execution_count": null,
   "id": "048443b4",
   "metadata": {},
   "outputs": [],
   "source": [
    "# Download\n",
    "id_lyr = '3543908C-E893-432F-BB40-074E865D4A02'\n",
    "filename = 'sp_datageo_aprm_billings'\n",
    "\n",
    "# Get Data\n",
    "get_metadata_file(id_lyr, output_path_datageo, filename=filename)\n",
    "gdf = download_shapefile(id_lyr, output_path_datageo, filename=filename)\n",
    "\n",
    "# Renomeia Colunas\n",
    "gdf = gdf.rename(\n",
    "    columns={\n",
    "        'Bacia': 'Nome',\n",
    "    }\n",
    ")\n",
    "\n",
    "# Save\n",
    "save_gdf(gdf, output_path_datageo, filename)"
   ]
  },
  {
   "cell_type": "code",
   "execution_count": null,
   "id": "b525a769",
   "metadata": {},
   "outputs": [],
   "source": [
    "# Download\n",
    "id_lyr = 'AAAE114B-A608-4B4E-B5B8-0D7E5BAF6FC8'\n",
    "filename = 'sp_datageo_aprm_guarapiranga'\n",
    "\n",
    "# Get Data\n",
    "get_metadata_file(id_lyr, output_path_datageo, filename=filename)\n",
    "gdf = download_shapefile(id_lyr, output_path_datageo, filename=filename)\n",
    "\n",
    "# \n",
    "gdf['Nome'] = 'Guarapiranga'\n",
    "\n",
    "# Save\n",
    "save_gdf(gdf, output_path_datageo, filename)"
   ]
  },
  {
   "cell_type": "code",
   "execution_count": null,
   "id": "ee7b027e",
   "metadata": {},
   "outputs": [],
   "source": [
    "# Download\n",
    "id_lyr = 'EA432FAF-9E47-4014-BE1B-E74EAA4717F9'\n",
    "filename = 'sp_datageo_aprm_juquery'\n",
    "\n",
    "# Get Data\n",
    "get_metadata_file(id_lyr, output_path_datageo, filename=filename)\n",
    "gdf = download_shapefile(id_lyr, output_path_datageo, filename=filename)\n",
    "\n",
    "# Renomeia Colunas\n",
    "gdf = gdf.rename(\n",
    "    columns={\n",
    "        'SUBUNIDADE': 'Nome',\n",
    "    }\n",
    ")\n",
    "\n",
    "# Save\n",
    "save_gdf(gdf, output_path_datageo, filename)"
   ]
  },
  {
   "cell_type": "code",
   "execution_count": null,
   "id": "823bbec1",
   "metadata": {},
   "outputs": [],
   "source": []
  }
 ],
 "metadata": {
  "interpreter": {
   "hash": "2bdda54bf0f28693adab761d90c570fb0a7faa3609b365313c0b5d078440c060"
  },
  "kernelspec": {
   "display_name": "Python 3 (ipykernel)",
   "language": "python",
   "name": "python3"
  },
  "language_info": {
   "codemirror_mode": {
    "name": "ipython",
    "version": 3
   },
   "file_extension": ".py",
   "mimetype": "text/x-python",
   "name": "python",
   "nbconvert_exporter": "python",
   "pygments_lexer": "ipython3",
   "version": "3.9.12"
  },
  "toc-autonumbering": true
 },
 "nbformat": 4,
 "nbformat_minor": 5
}
