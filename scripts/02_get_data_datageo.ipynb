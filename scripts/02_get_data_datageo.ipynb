{
 "cells": [
  {
   "cell_type": "markdown",
   "metadata": {
    "pycharm": {
     "name": "#%% md\n"
    }
   },
   "source": [
    "<br>\n",
    "\n",
    "# *Imports* e Funções\n",
    "\n",
    "Inicialmente faz-se necessário importar as bibliotecas que serão necessárias."
   ]
  },
  {
   "cell_type": "code",
   "execution_count": null,
   "metadata": {
    "jupyter": {
     "outputs_hidden": false
    },
    "pycharm": {
     "name": "#%%\n"
    }
   },
   "outputs": [],
   "source": [
    "import os\n",
    "import re\n",
    "import sys\n",
    "import shutil\n",
    "import zipfile\n",
    "import requests\n",
    "import geopandas as gpd\n",
    "from bs4 import BeautifulSoup"
   ]
  },
  {
   "cell_type": "markdown",
   "metadata": {
    "pycharm": {
     "name": "#%% md\n"
    }
   },
   "source": [
    "<br>\n",
    "\n",
    "Após isso cria-se as pastas listadas, que armazenarão as informações ao longo desse *script*."
   ]
  },
  {
   "cell_type": "code",
   "execution_count": null,
   "metadata": {
    "jupyter": {
     "outputs_hidden": false
    },
    "pycharm": {
     "name": "#%%\n"
    }
   },
   "outputs": [],
   "source": [
    "sys.path.append(os.path.join(os.getcwd(), '..', 'src'))\n",
    "from paths import *"
   ]
  },
  {
   "cell_type": "markdown",
   "metadata": {
    "pycharm": {
     "name": "#%% md\n"
    }
   },
   "source": [
    "<br>\n",
    "\n",
    "Usei a função abaixo para fazer *download* usando o *request*. Ainda, a função pega o nome do arquivo a partir do *Content Disposition*. Peguei a função do *post* [*Downloading Files from URLs in Python*](https://www.codementor.io/@aviaryan/downloading-files-from-urls-in-python-77q3bs0un), aonde tem outros exemplos, com outras finalidades."
   ]
  },
  {
   "cell_type": "code",
   "execution_count": null,
   "metadata": {
    "jupyter": {
     "outputs_hidden": false
    },
    "pycharm": {
     "name": "#%%\n"
    }
   },
   "outputs": [],
   "source": [
    "def get_filename_from_cd(cd):\n",
    "    \"\"\"\n",
    "    Get filename from content-disposition\n",
    "    \"\"\"\n",
    "    \n",
    "    if not cd:\n",
    "        return None\n",
    "    fname = re.findall('filename=(.+)', cd)\n",
    "    if len(fname) == 0:\n",
    "        return None\n",
    "    return fname[0]"
   ]
  },
  {
   "cell_type": "markdown",
   "metadata": {
    "pycharm": {
     "name": "#%% md\n"
    }
   },
   "source": [
    "<br>\n",
    "\n",
    "Após isso a forma de obtenção dos dados:\n",
    "1. Acessar a página dos metadados do plano de informação e exportar, mantendo armazenadas as informações da origem desse material;\n",
    "2. Caso seja possível acessar o material cartográfica por *shapefile*, será possível tomar conhecimento disso na página dos metadados;\n",
    "3. Uma função específica procura o *link* do *shapefile* e faz o download, extração da pasta zipada.\n",
    "4. Promove-se correções na tabela de atributos e nas projeções geográficas."
   ]
  },
  {
   "cell_type": "markdown",
   "metadata": {
    "pycharm": {
     "name": "#%% md\n"
    }
   },
   "source": [
    "<br>\n",
    "\n",
    "# Função\n",
    "\n",
    "Uma vez criada uma sequencia de códigos, foi possível definir uma funão que integra todos eles, apresentada abaixo:"
   ]
  },
  {
   "cell_type": "code",
   "execution_count": null,
   "metadata": {
    "jupyter": {
     "outputs_hidden": false
    },
    "pycharm": {
     "name": "#%%\n"
    }
   },
   "outputs": [],
   "source": [
    "def get_url_shapefile(id_lyr):\n",
    "    '''\n",
    "    Pega a URL do shapefile\n",
    "    \n",
    "    '''\n",
    "    \n",
    "    # Input dos caminhos para os metadados\n",
    "    url_api = 'http://datageo.ambiente.sp.gov.br/geoportal/catalog/search/resource/details.page?uuid='\n",
    "    url_meta = '{}{}'.format(url_api, '%7B{}%7D'.format(id_lyr))\n",
    "\n",
    "    # Abre a página dos metadados\n",
    "    r = requests.get(url_meta, allow_redirects=True)\n",
    "\n",
    "    # Parser HTML\n",
    "    soup = BeautifulSoup(r.content, 'html.parser')\n",
    "    soup = soup.find_all('a', href=True)\n",
    "\n",
    "    # Procura Shapefile\n",
    "    for i in soup:\n",
    "        text = i.text.split(' ')\n",
    "        #print(text)\n",
    "        for j in text:\n",
    "            #print(j)\n",
    "            if j in 'Shapefile':                \n",
    "                url = i['href']\n",
    "                print('Encontrei o shapefile:\\n{}\\n'.format(url))\n",
    "                return url"
   ]
  },
  {
   "cell_type": "code",
   "execution_count": null,
   "metadata": {
    "jupyter": {
     "outputs_hidden": false
    },
    "pycharm": {
     "name": "#%%\n"
    }
   },
   "outputs": [],
   "source": [
    "id_lyr = '74040682-561A-40B8-BB2F-E188B58088C1'\n",
    "url = get_url_shapefile(id_lyr)"
   ]
  },
  {
   "cell_type": "code",
   "execution_count": null,
   "metadata": {
    "jupyter": {
     "outputs_hidden": false
    },
    "pycharm": {
     "name": "#%%\n"
    }
   },
   "outputs": [],
   "source": [
    "def get_metadata_file(id_lyr, output_path, filename=None):\n",
    "    '''\n",
    "    Salva arquivo de metadados\n",
    "    \n",
    "    '''\n",
    "    \n",
    "    # Input dos caminhos para os metadados\n",
    "    url_api = 'http://datageo.ambiente.sp.gov.br/geoportal/catalog/search/resource/details.page?uuid='\n",
    "    \n",
    "    # URL\n",
    "    url_meta = '{}{}'.format(url_api, '%7B{}%7D'.format(id_lyr))\n",
    "    print('Página com metadados:\\n{}'.format(url_meta))\n",
    "\n",
    "    # Set Filename\n",
    "    if filename is None:\n",
    "        url = get_url_shapefile(id_lyr)\n",
    "        r = requests.get(url, allow_redirects=True)\n",
    "        filename_cd = get_filename_from_cd(r.headers.get('content-disposition'))\n",
    "        filename_metadata = filename_cd.split('.')[0]\n",
    "    \n",
    "    else:\n",
    "        filename_metadata = filename\n",
    "    \n",
    "    # Get Metadata File\n",
    "    r = requests.get(url_meta, allow_redirects=True)\n",
    "    open(os.path.join(output_path, '{}.html'.format(filename_metadata)), 'wb').write(r.content)\n",
    "    print('Página HTML dos metadados salva!\\n')"
   ]
  },
  {
   "cell_type": "code",
   "execution_count": null,
   "metadata": {
    "jupyter": {
     "outputs_hidden": false
    },
    "pycharm": {
     "name": "#%%\n"
    }
   },
   "outputs": [],
   "source": [
    "get_metadata_file(id_lyr, output_path, filename='ddd')"
   ]
  },
  {
   "cell_type": "code",
   "execution_count": null,
   "metadata": {
    "jupyter": {
     "outputs_hidden": false
    },
    "pycharm": {
     "name": "#%%\n"
    }
   },
   "outputs": [],
   "source": [
    "def download_shapefile(id_lyr, output_path, filename=None):\n",
    "    # Get Shapefile\n",
    "    url = get_url_shapefile(id_lyr)\n",
    "    r = requests.get(url, allow_redirects=True)\n",
    "    \n",
    "    # Set Filename\n",
    "    if filename is None:\n",
    "        # Get Zip filename from CD\n",
    "        zip_filename = get_filename_from_cd(r.headers.get('content-disposition'))\n",
    "    \n",
    "    else:\n",
    "        zip_filename = f'{filename}.zip'\n",
    "        \n",
    "    # Get Zipfile\n",
    "    open(os.path.join(output_path, zip_filename), 'wb').write(r.content)\n",
    "\n",
    "    # Unzip\n",
    "    zipfile_file = os.path.join(output_path, zip_filename)\n",
    "    zipfile_temp = os.path.join(os.path.dirname(zipfile_file), 'temp')\n",
    "    os.makedirs(zipfile_temp, exist_ok=True)\n",
    "    with zipfile.ZipFile(zipfile_file, 'r') as zip_obj:\n",
    "        zip_obj.extractall(zipfile_temp)\n",
    "\n",
    "    # Pega o nome do shapefile PRECISA HAVER SOMENTE UM!\n",
    "    list_shps = [i for i in os.listdir(zipfile_temp) if i.endswith('.shp')]\n",
    "    print(f'Encontrei {len(list_shps)} arquivos \"shapefile\", sendo que o primeiro deles é o \"{list_shps[0]}\"')\n",
    "\n",
    "    # Read shapefile\n",
    "    gdf = gpd.read_file(os.path.join(zipfile_temp, list_shps[0]))\n",
    "    print(gdf.head())\n",
    "\n",
    "    # Reprojeta\n",
    "    print(gdf.crs)\n",
    "    gdf = gdf.to_crs(epsg=4326)\n",
    "    print(gdf.crs)\n",
    "    gdf.plot()\n",
    "\n",
    "    # Excluí pasta temporária\n",
    "    shutil.rmtree(zipfile_temp)\n",
    "    return gdf"
   ]
  },
  {
   "cell_type": "code",
   "execution_count": null,
   "metadata": {
    "jupyter": {
     "outputs_hidden": false
    },
    "pycharm": {
     "name": "#%%\n"
    }
   },
   "outputs": [],
   "source": [
    "download_shapefile('74040682-561A-40B8-BB2F-E188B58088C1', bruto_path)"
   ]
  },
  {
   "cell_type": "markdown",
   "metadata": {
    "pycharm": {
     "name": "#%% md\n"
    }
   },
   "source": [
    "<br>\n",
    "\n",
    "# Encerramento"
   ]
  },
  {
   "cell_type": "code",
   "execution_count": null,
   "metadata": {
    "jupyter": {
     "outputs_hidden": false
    },
    "pycharm": {
     "name": "#%%\n"
    }
   },
   "outputs": [],
   "source": [
    "try:\n",
    "    if __name__ == '__main__':\n",
    "        pass\n",
    "except:\n",
    "    pass"
   ]
  },
  {
   "cell_type": "code",
   "execution_count": null,
   "metadata": {
    "jupyter": {
     "outputs_hidden": false
    },
    "pycharm": {
     "name": "#%%\n"
    }
   },
   "outputs": [],
   "source": [
    "import os\n",
    "from traitlets.config import Config\n",
    "from nbconvert import PythonExporter\n",
    "from nbconvert.preprocessors import TagRemovePreprocessor"
   ]
  },
  {
   "cell_type": "code",
   "execution_count": null,
   "metadata": {
    "jupyter": {
     "outputs_hidden": false
    },
    "pycharm": {
     "name": "#%%\n"
    }
   },
   "outputs": [],
   "source": [
    "# Input\n",
    "in_filename = '02_get_data_datageo.ipynb'\n",
    "in_filepath = os.path.abspath(os.path.join(os.getcwd(), '..', 'test', in_filename))\n",
    "out_filepath = os.path.abspath(os.path.join(src_path, 'get_data_datageo.py'))\n",
    "\n",
    "print(in_filepath)\n",
    "print(out_filepath)"
   ]
  },
  {
   "cell_type": "code",
   "execution_count": null,
   "metadata": {
    "jupyter": {
     "outputs_hidden": false
    },
    "pycharm": {
     "name": "#%%\n"
    }
   },
   "outputs": [],
   "source": [
    "# Import the exporter\n",
    "c = Config()\n",
    "c.TagRemovePreprocessor.enabled=True\n",
    "c.ClearOutputPreprocessor.enabled=True\n",
    "c.TemplateExporter.exclude_markdown=True\n",
    "c.TemplateExporter.exclude_code_cell=False\n",
    "c.TemplateExporter.exclude_input_prompt=True\n",
    "c.TemplateExporter.exclude_output=True\n",
    "c.TemplateExporter.exclude_raw=True\n",
    "c.TagRemovePreprocessor.remove_cell_tags = ('remove_cell',)\n",
    "c.TagRemovePreprocessor.remove_input_tags = ('remove_cell',)\n",
    "c.TagRemovePreprocessor.remove_all_outputs_tags = ('remove_cell',)\n",
    "c.preprocessors = ['TagRemovePreprocessor']\n",
    "c.PythonExporter.preprocessors = ['nbconvert.preprocessors.TagRemovePreprocessor']\n",
    "\n",
    "# Configure and run out exporter\n",
    "py_exporter = PythonExporter(config=c)\n",
    "py_exporter.register_preprocessor(TagRemovePreprocessor(config=c), True)\n",
    "\n",
    "# Configure and run out exporter - returns a tuple - first element with html, second with notebook metadata\n",
    "body, metadata = PythonExporter(config=c).from_filename(in_filepath)\n",
    "\n",
    "# Write to output html file\n",
    "with open(out_filepath,  'w', encoding='utf-8') as f:\n",
    "    f.write(body)"
   ]
  },
  {
   "cell_type": "code",
   "execution_count": null,
   "metadata": {
    "jupyter": {
     "outputs_hidden": false
    },
    "pycharm": {
     "name": "#%%\n"
    }
   },
   "outputs": [],
   "source": []
  }
 ],
 "metadata": {
  "interpreter": {
   "hash": "2bdda54bf0f28693adab761d90c570fb0a7faa3609b365313c0b5d078440c060"
  },
  "kernelspec": {
   "display_name": "Python 3 (ipykernel)",
   "language": "python",
   "name": "python3"
  },
  "language_info": {
   "codemirror_mode": {
    "name": "ipython",
    "version": 3
   },
   "file_extension": ".py",
   "mimetype": "text/x-python",
   "name": "python",
   "nbconvert_exporter": "python",
   "pygments_lexer": "ipython3",
   "version": "3.9.12"
  },
  "toc": {
   "base_numbering": 1,
   "nav_menu": {},
   "number_sections": true,
   "sideBar": true,
   "skip_h1_title": false,
   "title_cell": "Table of Contents",
   "title_sidebar": "Contents",
   "toc_cell": false,
   "toc_position": {
    "height": "calc(100% - 180px)",
    "left": "10px",
    "top": "150px",
    "width": "373.6px"
   },
   "toc_section_display": true,
   "toc_window_display": true
  },
  "toc-autonumbering": true
 },
 "nbformat": 4,
 "nbformat_minor": 4
}
