{
 "cells": [
  {
   "cell_type": "markdown",
   "id": "1bba1c90-65d7-43f5-99bd-7846d6d9b951",
   "metadata": {
    "pycharm": {
     "name": "#%% md\n"
    }
   },
   "source": [
    "<br>\n",
    "\n",
    "# Introdução\n",
    "\n",
    "- https://datageo.ambiente.sp.gov.br/navegar"
   ]
  },
  {
   "cell_type": "code",
   "execution_count": 1,
   "id": "152ffa2f-dd83-421c-8ceb-612b90563e48",
   "metadata": {
    "pycharm": {
     "name": "#%%\n"
    }
   },
   "outputs": [],
   "source": [
    "#!pip3 install traquitanas --upgrade"
   ]
  },
  {
   "cell_type": "code",
   "execution_count": 2,
   "id": "76a3f433-2681-4f1a-80c0-fa2a4145e518",
   "metadata": {
    "pycharm": {
     "name": "#%%\n"
    }
   },
   "outputs": [],
   "source": [
    "import os\n",
    "import sys\n",
    "import time\n",
    "import math\n",
    "import pandas as pd\n",
    "from itertools import islice"
   ]
  },
  {
   "cell_type": "code",
   "execution_count": 3,
   "id": "ddf2d774-5de1-42a1-bef3-85cfb19c018d",
   "metadata": {
    "pycharm": {
     "name": "#%%\n"
    }
   },
   "outputs": [],
   "source": [
    "from traquitanas import net"
   ]
  },
  {
   "cell_type": "code",
   "execution_count": 4,
   "id": "80bfb3ac",
   "metadata": {
    "collapsed": false,
    "jupyter": {
     "outputs_hidden": false
    },
    "pycharm": {
     "name": "#%%\n"
    }
   },
   "outputs": [],
   "source": [
    "from selenium.webdriver.common.by import By"
   ]
  },
  {
   "cell_type": "code",
   "execution_count": 5,
   "id": "0b78d0ee-41ec-4bc0-95bf-ef56c49bbcba",
   "metadata": {
    "pycharm": {
     "name": "#%%\n"
    }
   },
   "outputs": [],
   "source": [
    "sys.path.append(os.path.join(os.getcwd(), '..', 'src'))\n",
    "from paths import *"
   ]
  },
  {
   "cell_type": "markdown",
   "id": "b3dce72a-aba6-4657-9ea4-db52f7866092",
   "metadata": {
    "pycharm": {
     "name": "#%% md\n"
    }
   },
   "source": [
    "<br>\n",
    "\n",
    "## Driver"
   ]
  },
  {
   "cell_type": "code",
   "execution_count": 6,
   "id": "b21ca401-29a4-44bd-bb38-d8d736eeef13",
   "metadata": {
    "pycharm": {
     "name": "#%%\n"
    }
   },
   "outputs": [],
   "source": [
    "driver = net.scraping.create_driver(\n",
    "    data_path,\n",
    "    headless=True,\n",
    "    adds_path=os.path.join('..', 'scrapy', 'adds'),\n",
    "    log_path=os.path.join('..', 'scrapy', 'logs')    \n",
    ")"
   ]
  },
  {
   "cell_type": "markdown",
   "id": "cee824f4-7c8c-40e8-8814-2121f6975fa7",
   "metadata": {
    "pycharm": {
     "name": "#%% md\n"
    }
   },
   "source": [
    "<br>\n",
    "\n",
    "## URL"
   ]
  },
  {
   "cell_type": "code",
   "execution_count": 7,
   "id": "77524646-424c-4dc1-bc99-d1e2ce023c4e",
   "metadata": {
    "pycharm": {
     "name": "#%%\n"
    }
   },
   "outputs": [],
   "source": [
    "url = 'https://datageo.ambiente.sp.gov.br/geoportal/catalog/search/browse/browse.page?'\n",
    "driver.get(url)"
   ]
  },
  {
   "cell_type": "markdown",
   "id": "db8e8ed2-c88d-4eb1-8fd3-dde8edc5972d",
   "metadata": {
    "pycharm": {
     "name": "#%% md\n"
    }
   },
   "source": [
    "<br>\n",
    "\n",
    "## Assuntos"
   ]
  },
  {
   "cell_type": "code",
   "execution_count": 8,
   "id": "44c9f12e-50f4-4a74-9f26-32303d488496",
   "metadata": {
    "pycharm": {
     "name": "#%%\n"
    }
   },
   "outputs": [],
   "source": [
    "def get_subjects():\n",
    "    # Abre Catálogo\n",
    "    time.sleep(2)\n",
    "    try: driver.find_element(by=By.XPATH, value='//*[contains(@class,\"dijitTreeExpando dijitTreeExpandoClosed\")]').click()\n",
    "    except: pass\n",
    "\n",
    "    # Abre Classificação de Metadados\n",
    "    time.sleep(2)\n",
    "    try: driver.find_element(by=By.XPATH, value='//*[contains(@class,\"dijitTreeExpando dijitTreeExpandoClosed\")]').click()\n",
    "    except: pass\n",
    "\n",
    "    dict_subjects = {}\n",
    "    list_tree = driver.find_elements(by=By.XPATH, value='//*[@id=\"browse-toc\"]//*[@class=\"dijitTreeLabel\"]')\n",
    "    for i in list_tree:\n",
    "        subject = i.text\n",
    "        if subject != '' and subject != 'Catálogo' and subject != 'Classificação do Metadado':\n",
    "            dict_subjects[subject] = i\n",
    "    return dict_subjects"
   ]
  },
  {
   "cell_type": "markdown",
   "id": "aaac5859-ef6d-46e9-a0b2-36ce778eaad2",
   "metadata": {
    "pycharm": {
     "name": "#%% md\n"
    }
   },
   "source": [
    "<br>\n",
    "\n",
    "## Pages"
   ]
  },
  {
   "cell_type": "code",
   "execution_count": 9,
   "id": "728296db-0e4d-47d0-827c-7420ace64786",
   "metadata": {
    "pycharm": {
     "name": "#%%\n"
    }
   },
   "outputs": [],
   "source": [
    "def get_pages():\n",
    "    time.sleep(2)\n",
    "    start_index = int(driver.find_element(by=By.XPATH, value='//*[@id=\"browse-results-body\"]//*[@id=\"startIndex\"]').get_attribute('value'))\n",
    "    items_per_page = int(driver.find_element(by=By.XPATH, value='//*[@id=\"browse-results-body\"]//*[@id=\"itemsPerPage\"]').get_attribute('value'))\n",
    "    total_results = int(driver.find_element(by=By.XPATH, value='//*[@id=\"browse-results-body\"]//*[@id=\"totalResults\"]').get_attribute('value'))\n",
    "    n_pages = math.ceil(total_results/items_per_page)\n",
    "    dict_results = {\n",
    "        'start_index': start_index,\n",
    "        'items_per_page': items_per_page,\n",
    "        'total_results': total_results,\n",
    "        'n_pages': n_pages,\n",
    "    }\n",
    "    return dict_results"
   ]
  },
  {
   "cell_type": "markdown",
   "id": "104d3af7-dcaf-4cb4-875b-d45e7059615d",
   "metadata": {
    "pycharm": {
     "name": "#%% md\n"
    }
   },
   "source": [
    "<br>\n",
    "\n",
    "## Get Infos from Itens"
   ]
  },
  {
   "cell_type": "code",
   "execution_count": 10,
   "id": "1f027da8-54c6-4db4-9c01-ee8b312b1038",
   "metadata": {
    "pycharm": {
     "name": "#%%\n"
    }
   },
   "outputs": [],
   "source": [
    "def get_infos_item(item, subject):\n",
    "    # Título\n",
    "    titulo = item.find_element(by=By.XPATH, value='.//*[@class=\"title\"]').text\n",
    "\n",
    "    # Código\n",
    "    id_lyr = item.find_element(by=By.XPATH, value='.//*[@class=\"title\"]').get_attribute('id')\n",
    "\n",
    "    # Resumo\n",
    "    resumo = item.find_element(by=By.XPATH, value='.//*[@class=\"abstract\"]').text\n",
    "\n",
    "    dict_links = {\n",
    "            'Assunto': subject,\n",
    "            'Titulo': titulo,\n",
    "            'id_lyr': id_lyr,\n",
    "            'Resumo': resumo,\n",
    "            'Carregar no Visualizador': '',\n",
    "            'Metadados': '',\n",
    "            'XML': '',\n",
    "    }\n",
    "\n",
    "    # Links\n",
    "    list_links = item.find_elements(by=By.XPATH, value='.//*[@class=\"links\"]//*')\n",
    "    for link in list_links:\n",
    "        #\n",
    "        link_text = link.text\n",
    "        link_url = link.get_attribute('href')\n",
    "\n",
    "        # Loop    \n",
    "        if link_text == 'Metadados':        \n",
    "            # Input dos caminhos para os metadados\n",
    "            url_api = 'http://datageo.ambiente.sp.gov.br/geoportal/catalog/search/resource/details.page?uuid='\n",
    "            link_url = '{}{}'.format(url_api, '%7B{}%7D'.format(id_lyr.replace('{', '').replace('}', '')))\n",
    "        dict_links.update({link_text: link_url})\n",
    "    return dict_links"
   ]
  },
  {
   "cell_type": "code",
   "execution_count": 11,
   "id": "053bf3a1-b280-4238-b3ec-bb4dc7105d53",
   "metadata": {
    "pycharm": {
     "name": "#%%\n"
    }
   },
   "outputs": [],
   "source": [
    "#subject = 'Clima'\n",
    "#get_infos_item(dict_subjects[subject], subject)"
   ]
  },
  {
   "cell_type": "markdown",
   "id": "73e83dc7-15e6-4c88-b952-74ee5cffcec4",
   "metadata": {
    "pycharm": {
     "name": "#%% md\n"
    }
   },
   "source": [
    "<br>\n",
    "\n",
    "## Get All Itens"
   ]
  },
  {
   "cell_type": "code",
   "execution_count": 12,
   "id": "9210d8e1-141a-4ff1-9039-45edb52c9f24",
   "metadata": {
    "pycharm": {
     "name": "#%%\n"
    }
   },
   "outputs": [],
   "source": [
    "def get_all_itens(n_pages, subject):\n",
    "    # Vai para a página 1\n",
    "    try: driver.find_element(by=By.XPATH, value='//*[@id=\"browse-results-header-pageControl\"]//*[contains(text(),\"Primeiro\")]').click()\n",
    "    except: pass\n",
    "    try: driver.find_element(by=By.XPATH, value='//*[@id=\"browse-results-header-pageControl\"]//*[contains(text(),\"1\")]').click()\n",
    "    except: pass\n",
    "    time.sleep(3)\n",
    "\n",
    "    # Para cada página\n",
    "    list_itens_infos = []\n",
    "    for i in range(0, n_pages):\n",
    "        # Clicar no número da página\n",
    "        item_n = i + 1\n",
    "        driver.find_element(by=By.XPATH, value='//*[@id=\"browse-results-header-pageControl\"]//*[contains(text(),\"{}\")]'.format(item_n)).click()\n",
    "        time.sleep(1)\n",
    "\n",
    "        # Pega a lista de itens\n",
    "        list_itens = driver.find_elements(by=By.XPATH, value='//*[@id=\"browse-results-body\"]//*[@class=\"snippet\"]')\n",
    "\n",
    "        # Pega infos dos itens\n",
    "        for item in list_itens:\n",
    "            list_itens_infos.append(get_infos_item(item, subject))\n",
    "    \n",
    "    return list_itens_infos"
   ]
  },
  {
   "cell_type": "markdown",
   "id": "1bd05794-8a06-4b05-a4a5-83fdcc1fcb3b",
   "metadata": {
    "pycharm": {
     "name": "#%% md\n"
    }
   },
   "source": [
    "<br>\n",
    "\n",
    "# Run"
   ]
  },
  {
   "cell_type": "code",
   "execution_count": 13,
   "id": "60a54a97-619a-44c1-a105-ab81c10e5819",
   "metadata": {
    "pycharm": {
     "name": "#%%\n"
    }
   },
   "outputs": [
    {
     "data": {
      "text/plain": [
       "{'Abastecimento de Água': <selenium.webdriver.remote.webelement.WebElement (session=\"85096321-d037-43f6-b56f-f73f54fff759\", element=\"1f5f7bd3-54e2-4b99-b073-ff391ba3f4d7\")>,\n",
       " 'Áreas com Diretrizes Especiais de Uso': <selenium.webdriver.remote.webelement.WebElement (session=\"85096321-d037-43f6-b56f-f73f54fff759\", element=\"a2a921f6-bdce-4f5f-bc3e-bbd6b01f6e9d\")>,\n",
       " 'Áreas Protegidas': <selenium.webdriver.remote.webelement.WebElement (session=\"85096321-d037-43f6-b56f-f73f54fff759\", element=\"5b284c9f-c0ac-4bf8-97c1-127af0ff03bb\")>,\n",
       " 'Biodiversidade': <selenium.webdriver.remote.webelement.WebElement (session=\"85096321-d037-43f6-b56f-f73f54fff759\", element=\"4a8afb0a-cafd-4db0-ac91-518455791d3b\")>,\n",
       " 'Clima': <selenium.webdriver.remote.webelement.WebElement (session=\"85096321-d037-43f6-b56f-f73f54fff759\", element=\"36a64aed-d128-49e4-9489-dc91ac1395e4\")>,\n",
       " 'Controle Ambiental': <selenium.webdriver.remote.webelement.WebElement (session=\"85096321-d037-43f6-b56f-f73f54fff759\", element=\"506063b2-1d50-45a8-a626-778ca34e8b34\")>,\n",
       " 'Energia': <selenium.webdriver.remote.webelement.WebElement (session=\"85096321-d037-43f6-b56f-f73f54fff759\", element=\"afd9980e-1412-4c5d-860b-7a561e83a876\")>,\n",
       " 'Fauna': <selenium.webdriver.remote.webelement.WebElement (session=\"85096321-d037-43f6-b56f-f73f54fff759\", element=\"f09602b4-e460-400d-801d-4d4b5d3cd454\")>,\n",
       " 'Fiscalização Ambiental': <selenium.webdriver.remote.webelement.WebElement (session=\"85096321-d037-43f6-b56f-f73f54fff759\", element=\"45823c7d-44b5-4b85-bf5a-89203297145e\")>,\n",
       " 'Geologia e Recursos Minerais': <selenium.webdriver.remote.webelement.WebElement (session=\"85096321-d037-43f6-b56f-f73f54fff759\", element=\"6b95ea9c-c2da-466d-9d46-ad19272f2d91\")>,\n",
       " 'Geomorfologia': <selenium.webdriver.remote.webelement.WebElement (session=\"85096321-d037-43f6-b56f-f73f54fff759\", element=\"4e74b358-5d7c-4229-854c-65e4e38f6d18\")>,\n",
       " 'Hidrografia e Hidrologia': <selenium.webdriver.remote.webelement.WebElement (session=\"85096321-d037-43f6-b56f-f73f54fff759\", element=\"dcdd21fa-6842-42f2-932e-c4ac3f435281\")>,\n",
       " 'Imageamento e Ortoimagem': <selenium.webdriver.remote.webelement.WebElement (session=\"85096321-d037-43f6-b56f-f73f54fff759\", element=\"8e8b9dc1-1fa4-49bc-8a26-5c3c6b29107e\")>,\n",
       " 'Legislação, Normas e Especificação': <selenium.webdriver.remote.webelement.WebElement (session=\"85096321-d037-43f6-b56f-f73f54fff759\", element=\"77534d97-e114-4ac2-af0c-9d204c0f27d1\")>,\n",
       " 'Licenciamento Ambiental': <selenium.webdriver.remote.webelement.WebElement (session=\"85096321-d037-43f6-b56f-f73f54fff759\", element=\"05b7a1fa-70c8-4a24-bbfc-c6569092f9e0\")>,\n",
       " 'Limites Políticos-Administrativos': <selenium.webdriver.remote.webelement.WebElement (session=\"85096321-d037-43f6-b56f-f73f54fff759\", element=\"9216206f-28bf-4acc-b7a3-1bafaa94496e\")>,\n",
       " 'Localização e Referência Espacial': <selenium.webdriver.remote.webelement.WebElement (session=\"85096321-d037-43f6-b56f-f73f54fff759\", element=\"71d31fce-c479-4fbd-a7a9-59013744d1d3\")>,\n",
       " 'Manancial': <selenium.webdriver.remote.webelement.WebElement (session=\"85096321-d037-43f6-b56f-f73f54fff759\", element=\"9d47ae58-3206-430f-8b3f-800010f66912\")>,\n",
       " 'Mapeamento Básico': <selenium.webdriver.remote.webelement.WebElement (session=\"85096321-d037-43f6-b56f-f73f54fff759\", element=\"dd1558a1-61f4-4ed9-874c-75377e6760d5\")>,\n",
       " 'Monitoramento Ambiental': <selenium.webdriver.remote.webelement.WebElement (session=\"85096321-d037-43f6-b56f-f73f54fff759\", element=\"213e6ef9-0e56-410e-9769-9ef3b4e2e4c6\")>,\n",
       " 'Planejamento Ambiental': <selenium.webdriver.remote.webelement.WebElement (session=\"85096321-d037-43f6-b56f-f73f54fff759\", element=\"08c453fb-7e1e-4bd3-b66c-71ebe5957bff\")>,\n",
       " 'Relevo / Modelos de terreno': <selenium.webdriver.remote.webelement.WebElement (session=\"85096321-d037-43f6-b56f-f73f54fff759\", element=\"e8bf7bc1-929f-4930-ba0b-1d8d47b43012\")>,\n",
       " 'Riscos Naturais': <selenium.webdriver.remote.webelement.WebElement (session=\"85096321-d037-43f6-b56f-f73f54fff759\", element=\"afdd4e24-4edf-47b4-9574-912f7774d26e\")>,\n",
       " 'Saneamento': <selenium.webdriver.remote.webelement.WebElement (session=\"85096321-d037-43f6-b56f-f73f54fff759\", element=\"a166586c-73da-44b7-aced-8ffc8a5b217f\")>,\n",
       " 'Socioeconômico': <selenium.webdriver.remote.webelement.WebElement (session=\"85096321-d037-43f6-b56f-f73f54fff759\", element=\"aefea1b9-9ceb-4190-8c81-0b9db1985d1a\")>,\n",
       " 'Solos': <selenium.webdriver.remote.webelement.WebElement (session=\"85096321-d037-43f6-b56f-f73f54fff759\", element=\"f16b7f1a-8a5d-4496-8a9f-6fb017b671e7\")>,\n",
       " 'Topografia': <selenium.webdriver.remote.webelement.WebElement (session=\"85096321-d037-43f6-b56f-f73f54fff759\", element=\"b6fc2e98-7ef8-42b4-85ab-d5fdb56d3dbd\")>,\n",
       " 'Transportes': <selenium.webdriver.remote.webelement.WebElement (session=\"85096321-d037-43f6-b56f-f73f54fff759\", element=\"f67b3d21-d694-46f5-aaa9-0032607868f1\")>,\n",
       " 'Unidades de Análise': <selenium.webdriver.remote.webelement.WebElement (session=\"85096321-d037-43f6-b56f-f73f54fff759\", element=\"1e38b073-f283-4fe0-8d5c-517ca5e8a232\")>,\n",
       " 'Uso e Cobertura do Solo': <selenium.webdriver.remote.webelement.WebElement (session=\"85096321-d037-43f6-b56f-f73f54fff759\", element=\"740b7f38-ea26-4597-9f0b-ea4030d35715\")>,\n",
       " 'Vegetação': <selenium.webdriver.remote.webelement.WebElement (session=\"85096321-d037-43f6-b56f-f73f54fff759\", element=\"2f008e11-eef9-4431-a7c9-0c5a322c92e3\")>,\n",
       " 'Zoneamento e Ordenamento': <selenium.webdriver.remote.webelement.WebElement (session=\"85096321-d037-43f6-b56f-f73f54fff759\", element=\"e5962f6d-4215-47ce-b3b9-7480aa7922de\")>}"
      ]
     },
     "execution_count": 13,
     "metadata": {},
     "output_type": "execute_result"
    }
   ],
   "source": [
    "dict_subjects = get_subjects()\n",
    "#dict_subjects = dict(islice(dict_subjects.items(), 2, 4))\n",
    "dict_subjects"
   ]
  },
  {
   "cell_type": "code",
   "execution_count": 14,
   "id": "f80cf3c2-9592-426e-aca5-8913d1417e30",
   "metadata": {
    "pycharm": {
     "name": "#%%\n"
    }
   },
   "outputs": [
    {
     "name": "stdout",
     "output_type": "stream",
     "text": [
      "Assunto: \"Abastecimento de Água\" tem 13 páginas de itens, totalizando 130 itens\n",
      "Assunto: \"Áreas com Diretrizes Especiais de Uso\" tem 50 páginas de itens, totalizando 493 itens\n",
      "Assunto: \"Áreas Protegidas\" tem 21 páginas de itens, totalizando 206 itens\n",
      "Assunto: \"Biodiversidade\" tem 13 páginas de itens, totalizando 126 itens\n",
      "Assunto: \"Clima\" tem 1 páginas de itens, totalizando 7 itens\n",
      "Assunto: \"Controle Ambiental\" tem 26 páginas de itens, totalizando 253 itens\n",
      "Assunto: \"Energia\" tem 2 páginas de itens, totalizando 12 itens\n",
      "Assunto: \"Fauna\" tem 6 páginas de itens, totalizando 56 itens\n",
      "Assunto: \"Fiscalização Ambiental\" tem 34 páginas de itens, totalizando 336 itens\n",
      "Assunto: \"Geologia e Recursos Minerais\" tem 2 páginas de itens, totalizando 18 itens\n",
      "Assunto: \"Geomorfologia\" tem 45 páginas de itens, totalizando 445 itens\n"
     ]
    },
    {
     "ename": "StaleElementReferenceException",
     "evalue": "Message: The element reference of <a href=\"/app?title=IPT+-+Suscetibilidade+a+inunda%C3%A7%C3%B5es+do+munic%C3%ADpio+de+Pedreira&uuid=%7B6E772F98-A984-4ED3-A32F-D2ED5635B3C3%7D&layer=Susc_Inund_Pedreira&resource=wms%3Ahttp%3A%2F%2Fgeo.ipt.br%3A8080%2Fgeoserver%2Fiptwms%2Fows%3FSERVICE%3DWMS%26\"> is stale; either the element is no longer attached to the DOM, it is not in the current frame context, or the document has been refreshed\nStacktrace:\nWebDriverError@chrome://remote/content/shared/webdriver/Errors.jsm:183:5\nStaleElementReferenceError@chrome://remote/content/shared/webdriver/Errors.jsm:464:5\nelement.resolveElement@chrome://remote/content/marionette/element.js:681:11\nevaluate.fromJSON@chrome://remote/content/marionette/evaluate.js:254:26\nevaluate.fromJSON/<@chrome://remote/content/marionette/evaluate.js:245:38\nevaluate.fromJSON@chrome://remote/content/marionette/evaluate.js:245:20\nevaluate.fromJSON@chrome://remote/content/marionette/evaluate.js:262:29\nreceiveMessage@chrome://remote/content/marionette/actors/MarionetteCommandsChild.jsm:79:29\n",
     "output_type": "error",
     "traceback": [
      "\u001b[0;31m---------------------------------------------------------------------------\u001b[0m",
      "\u001b[0;31mStaleElementReferenceException\u001b[0m            Traceback (most recent call last)",
      "\u001b[1;32m/home/michel/Codes/open_geodata/sp_datageo/test/01_get_catalogo.ipynb Cell 22'\u001b[0m in \u001b[0;36m<cell line: 3>\u001b[0;34m()\u001b[0m\n\u001b[1;32m     <a href='vscode-notebook-cell:/home/michel/Codes/open_geodata/sp_datageo/test/01_get_catalogo.ipynb#ch0000021?line=9'>10</a>\u001b[0m     \u001b[39mprint\u001b[39m(\u001b[39m'\u001b[39m\u001b[39mAssunto: \u001b[39m\u001b[39m\"\u001b[39m\u001b[39m{}\u001b[39;00m\u001b[39m\"\u001b[39m\u001b[39m tem \u001b[39m\u001b[39m{}\u001b[39;00m\u001b[39m páginas de itens, totalizando \u001b[39m\u001b[39m{}\u001b[39;00m\u001b[39m itens\u001b[39m\u001b[39m'\u001b[39m\u001b[39m.\u001b[39mformat(subject, n_pages, info_page[\u001b[39m'\u001b[39m\u001b[39mtotal_results\u001b[39m\u001b[39m'\u001b[39m]))\n\u001b[1;32m     <a href='vscode-notebook-cell:/home/michel/Codes/open_geodata/sp_datageo/test/01_get_catalogo.ipynb#ch0000021?line=11'>12</a>\u001b[0m     \u001b[39m# Adiciona Dados\u001b[39;00m\n\u001b[0;32m---> <a href='vscode-notebook-cell:/home/michel/Codes/open_geodata/sp_datageo/test/01_get_catalogo.ipynb#ch0000021?line=12'>13</a>\u001b[0m     temp \u001b[39m=\u001b[39m get_all_itens(n_pages, subject)\n\u001b[1;32m     <a href='vscode-notebook-cell:/home/michel/Codes/open_geodata/sp_datageo/test/01_get_catalogo.ipynb#ch0000021?line=13'>14</a>\u001b[0m     dfs\u001b[39m.\u001b[39mappend(pd\u001b[39m.\u001b[39mDataFrame(temp))\n\u001b[1;32m     <a href='vscode-notebook-cell:/home/michel/Codes/open_geodata/sp_datageo/test/01_get_catalogo.ipynb#ch0000021?line=15'>16</a>\u001b[0m \u001b[39mprint\u001b[39m(\u001b[39m'\u001b[39m\u001b[39mFim\u001b[39m\u001b[39m'\u001b[39m)\n",
      "\u001b[1;32m/home/michel/Codes/open_geodata/sp_datageo/test/01_get_catalogo.ipynb Cell 19'\u001b[0m in \u001b[0;36mget_all_itens\u001b[0;34m(n_pages, subject)\u001b[0m\n\u001b[1;32m     <a href='vscode-notebook-cell:/home/michel/Codes/open_geodata/sp_datageo/test/01_get_catalogo.ipynb#ch0000018?line=19'>20</a>\u001b[0m     \u001b[39m# Pega infos dos itens\u001b[39;00m\n\u001b[1;32m     <a href='vscode-notebook-cell:/home/michel/Codes/open_geodata/sp_datageo/test/01_get_catalogo.ipynb#ch0000018?line=20'>21</a>\u001b[0m     \u001b[39mfor\u001b[39;00m item \u001b[39min\u001b[39;00m list_itens:\n\u001b[0;32m---> <a href='vscode-notebook-cell:/home/michel/Codes/open_geodata/sp_datageo/test/01_get_catalogo.ipynb#ch0000018?line=21'>22</a>\u001b[0m         list_itens_infos\u001b[39m.\u001b[39mappend(get_infos_item(item, subject))\n\u001b[1;32m     <a href='vscode-notebook-cell:/home/michel/Codes/open_geodata/sp_datageo/test/01_get_catalogo.ipynb#ch0000018?line=23'>24</a>\u001b[0m \u001b[39mreturn\u001b[39;00m list_itens_infos\n",
      "\u001b[1;32m/home/michel/Codes/open_geodata/sp_datageo/test/01_get_catalogo.ipynb Cell 16'\u001b[0m in \u001b[0;36mget_infos_item\u001b[0;34m(item, subject)\u001b[0m\n\u001b[1;32m     <a href='vscode-notebook-cell:/home/michel/Codes/open_geodata/sp_datageo/test/01_get_catalogo.ipynb#ch0000015?line=22'>23</a>\u001b[0m \u001b[39mfor\u001b[39;00m link \u001b[39min\u001b[39;00m list_links:\n\u001b[1;32m     <a href='vscode-notebook-cell:/home/michel/Codes/open_geodata/sp_datageo/test/01_get_catalogo.ipynb#ch0000015?line=23'>24</a>\u001b[0m     \u001b[39m#\u001b[39;00m\n\u001b[1;32m     <a href='vscode-notebook-cell:/home/michel/Codes/open_geodata/sp_datageo/test/01_get_catalogo.ipynb#ch0000015?line=24'>25</a>\u001b[0m     link_text \u001b[39m=\u001b[39m link\u001b[39m.\u001b[39mtext\n\u001b[0;32m---> <a href='vscode-notebook-cell:/home/michel/Codes/open_geodata/sp_datageo/test/01_get_catalogo.ipynb#ch0000015?line=25'>26</a>\u001b[0m     link_url \u001b[39m=\u001b[39m link\u001b[39m.\u001b[39;49mget_attribute(\u001b[39m'\u001b[39;49m\u001b[39mhref\u001b[39;49m\u001b[39m'\u001b[39;49m)\n\u001b[1;32m     <a href='vscode-notebook-cell:/home/michel/Codes/open_geodata/sp_datageo/test/01_get_catalogo.ipynb#ch0000015?line=27'>28</a>\u001b[0m     \u001b[39m# Loop    \u001b[39;00m\n\u001b[1;32m     <a href='vscode-notebook-cell:/home/michel/Codes/open_geodata/sp_datageo/test/01_get_catalogo.ipynb#ch0000015?line=28'>29</a>\u001b[0m     \u001b[39mif\u001b[39;00m link_text \u001b[39m==\u001b[39m \u001b[39m'\u001b[39m\u001b[39mMetadados\u001b[39m\u001b[39m'\u001b[39m:        \n\u001b[1;32m     <a href='vscode-notebook-cell:/home/michel/Codes/open_geodata/sp_datageo/test/01_get_catalogo.ipynb#ch0000015?line=29'>30</a>\u001b[0m         \u001b[39m# Input dos caminhos para os metadados\u001b[39;00m\n",
      "File \u001b[0;32m~/Documents/conda/envs/pablocarreira-py39/lib/python3.9/site-packages/selenium/webdriver/remote/webelement.py:155\u001b[0m, in \u001b[0;36mWebElement.get_attribute\u001b[0;34m(self, name)\u001b[0m\n\u001b[1;32m    <a href='file:///home/michel/Documents/conda/envs/pablocarreira-py39/lib/python3.9/site-packages/selenium/webdriver/remote/webelement.py?line=127'>128</a>\u001b[0m \u001b[39mdef\u001b[39;00m \u001b[39mget_attribute\u001b[39m(\u001b[39mself\u001b[39m, name) \u001b[39m-\u001b[39m\u001b[39m>\u001b[39m \u001b[39mstr\u001b[39m:\n\u001b[1;32m    <a href='file:///home/michel/Documents/conda/envs/pablocarreira-py39/lib/python3.9/site-packages/selenium/webdriver/remote/webelement.py?line=128'>129</a>\u001b[0m     \u001b[39m\"\"\"Gets the given attribute or property of the element.\u001b[39;00m\n\u001b[1;32m    <a href='file:///home/michel/Documents/conda/envs/pablocarreira-py39/lib/python3.9/site-packages/selenium/webdriver/remote/webelement.py?line=129'>130</a>\u001b[0m \n\u001b[1;32m    <a href='file:///home/michel/Documents/conda/envs/pablocarreira-py39/lib/python3.9/site-packages/selenium/webdriver/remote/webelement.py?line=130'>131</a>\u001b[0m \u001b[39m    This method will first try to return the value of a property with the\u001b[39;00m\n\u001b[0;32m   (...)\u001b[0m\n\u001b[1;32m    <a href='file:///home/michel/Documents/conda/envs/pablocarreira-py39/lib/python3.9/site-packages/selenium/webdriver/remote/webelement.py?line=151'>152</a>\u001b[0m \n\u001b[1;32m    <a href='file:///home/michel/Documents/conda/envs/pablocarreira-py39/lib/python3.9/site-packages/selenium/webdriver/remote/webelement.py?line=152'>153</a>\u001b[0m \u001b[39m    \"\"\"\u001b[39;00m\n\u001b[0;32m--> <a href='file:///home/michel/Documents/conda/envs/pablocarreira-py39/lib/python3.9/site-packages/selenium/webdriver/remote/webelement.py?line=154'>155</a>\u001b[0m     attribute_value \u001b[39m=\u001b[39m \u001b[39mself\u001b[39;49m\u001b[39m.\u001b[39;49mparent\u001b[39m.\u001b[39;49mexecute_script(\n\u001b[1;32m    <a href='file:///home/michel/Documents/conda/envs/pablocarreira-py39/lib/python3.9/site-packages/selenium/webdriver/remote/webelement.py?line=155'>156</a>\u001b[0m         \u001b[39m\"\u001b[39;49m\u001b[39mreturn (\u001b[39;49m\u001b[39m%s\u001b[39;49;00m\u001b[39m).apply(null, arguments);\u001b[39;49m\u001b[39m\"\u001b[39;49m \u001b[39m%\u001b[39;49m getAttribute_js,\n\u001b[1;32m    <a href='file:///home/michel/Documents/conda/envs/pablocarreira-py39/lib/python3.9/site-packages/selenium/webdriver/remote/webelement.py?line=156'>157</a>\u001b[0m         \u001b[39mself\u001b[39;49m, name)\n\u001b[1;32m    <a href='file:///home/michel/Documents/conda/envs/pablocarreira-py39/lib/python3.9/site-packages/selenium/webdriver/remote/webelement.py?line=157'>158</a>\u001b[0m     \u001b[39mreturn\u001b[39;00m attribute_value\n",
      "File \u001b[0;32m~/Documents/conda/envs/pablocarreira-py39/lib/python3.9/site-packages/selenium/webdriver/remote/webdriver.py:879\u001b[0m, in \u001b[0;36mWebDriver.execute_script\u001b[0;34m(self, script, *args)\u001b[0m\n\u001b[1;32m    <a href='file:///home/michel/Documents/conda/envs/pablocarreira-py39/lib/python3.9/site-packages/selenium/webdriver/remote/webdriver.py?line=875'>876</a>\u001b[0m converted_args \u001b[39m=\u001b[39m \u001b[39mlist\u001b[39m(args)\n\u001b[1;32m    <a href='file:///home/michel/Documents/conda/envs/pablocarreira-py39/lib/python3.9/site-packages/selenium/webdriver/remote/webdriver.py?line=876'>877</a>\u001b[0m command \u001b[39m=\u001b[39m Command\u001b[39m.\u001b[39mW3C_EXECUTE_SCRIPT\n\u001b[0;32m--> <a href='file:///home/michel/Documents/conda/envs/pablocarreira-py39/lib/python3.9/site-packages/selenium/webdriver/remote/webdriver.py?line=878'>879</a>\u001b[0m \u001b[39mreturn\u001b[39;00m \u001b[39mself\u001b[39;49m\u001b[39m.\u001b[39;49mexecute(command, {\n\u001b[1;32m    <a href='file:///home/michel/Documents/conda/envs/pablocarreira-py39/lib/python3.9/site-packages/selenium/webdriver/remote/webdriver.py?line=879'>880</a>\u001b[0m     \u001b[39m'\u001b[39;49m\u001b[39mscript\u001b[39;49m\u001b[39m'\u001b[39;49m: script,\n\u001b[1;32m    <a href='file:///home/michel/Documents/conda/envs/pablocarreira-py39/lib/python3.9/site-packages/selenium/webdriver/remote/webdriver.py?line=880'>881</a>\u001b[0m     \u001b[39m'\u001b[39;49m\u001b[39margs\u001b[39;49m\u001b[39m'\u001b[39;49m: converted_args})[\u001b[39m'\u001b[39m\u001b[39mvalue\u001b[39m\u001b[39m'\u001b[39m]\n",
      "File \u001b[0;32m~/Documents/conda/envs/pablocarreira-py39/lib/python3.9/site-packages/selenium/webdriver/remote/webdriver.py:425\u001b[0m, in \u001b[0;36mWebDriver.execute\u001b[0;34m(self, driver_command, params)\u001b[0m\n\u001b[1;32m    <a href='file:///home/michel/Documents/conda/envs/pablocarreira-py39/lib/python3.9/site-packages/selenium/webdriver/remote/webdriver.py?line=422'>423</a>\u001b[0m response \u001b[39m=\u001b[39m \u001b[39mself\u001b[39m\u001b[39m.\u001b[39mcommand_executor\u001b[39m.\u001b[39mexecute(driver_command, params)\n\u001b[1;32m    <a href='file:///home/michel/Documents/conda/envs/pablocarreira-py39/lib/python3.9/site-packages/selenium/webdriver/remote/webdriver.py?line=423'>424</a>\u001b[0m \u001b[39mif\u001b[39;00m response:\n\u001b[0;32m--> <a href='file:///home/michel/Documents/conda/envs/pablocarreira-py39/lib/python3.9/site-packages/selenium/webdriver/remote/webdriver.py?line=424'>425</a>\u001b[0m     \u001b[39mself\u001b[39;49m\u001b[39m.\u001b[39;49merror_handler\u001b[39m.\u001b[39;49mcheck_response(response)\n\u001b[1;32m    <a href='file:///home/michel/Documents/conda/envs/pablocarreira-py39/lib/python3.9/site-packages/selenium/webdriver/remote/webdriver.py?line=425'>426</a>\u001b[0m     response[\u001b[39m'\u001b[39m\u001b[39mvalue\u001b[39m\u001b[39m'\u001b[39m] \u001b[39m=\u001b[39m \u001b[39mself\u001b[39m\u001b[39m.\u001b[39m_unwrap_value(\n\u001b[1;32m    <a href='file:///home/michel/Documents/conda/envs/pablocarreira-py39/lib/python3.9/site-packages/selenium/webdriver/remote/webdriver.py?line=426'>427</a>\u001b[0m         response\u001b[39m.\u001b[39mget(\u001b[39m'\u001b[39m\u001b[39mvalue\u001b[39m\u001b[39m'\u001b[39m, \u001b[39mNone\u001b[39;00m))\n\u001b[1;32m    <a href='file:///home/michel/Documents/conda/envs/pablocarreira-py39/lib/python3.9/site-packages/selenium/webdriver/remote/webdriver.py?line=427'>428</a>\u001b[0m     \u001b[39mreturn\u001b[39;00m response\n",
      "File \u001b[0;32m~/Documents/conda/envs/pablocarreira-py39/lib/python3.9/site-packages/selenium/webdriver/remote/errorhandler.py:247\u001b[0m, in \u001b[0;36mErrorHandler.check_response\u001b[0;34m(self, response)\u001b[0m\n\u001b[1;32m    <a href='file:///home/michel/Documents/conda/envs/pablocarreira-py39/lib/python3.9/site-packages/selenium/webdriver/remote/errorhandler.py?line=244'>245</a>\u001b[0m         alert_text \u001b[39m=\u001b[39m value[\u001b[39m'\u001b[39m\u001b[39malert\u001b[39m\u001b[39m'\u001b[39m]\u001b[39m.\u001b[39mget(\u001b[39m'\u001b[39m\u001b[39mtext\u001b[39m\u001b[39m'\u001b[39m)\n\u001b[1;32m    <a href='file:///home/michel/Documents/conda/envs/pablocarreira-py39/lib/python3.9/site-packages/selenium/webdriver/remote/errorhandler.py?line=245'>246</a>\u001b[0m     \u001b[39mraise\u001b[39;00m exception_class(message, screen, stacktrace, alert_text)  \u001b[39m# type: ignore[call-arg]  # mypy is not smart enough here\u001b[39;00m\n\u001b[0;32m--> <a href='file:///home/michel/Documents/conda/envs/pablocarreira-py39/lib/python3.9/site-packages/selenium/webdriver/remote/errorhandler.py?line=246'>247</a>\u001b[0m \u001b[39mraise\u001b[39;00m exception_class(message, screen, stacktrace)\n",
      "\u001b[0;31mStaleElementReferenceException\u001b[0m: Message: The element reference of <a href=\"/app?title=IPT+-+Suscetibilidade+a+inunda%C3%A7%C3%B5es+do+munic%C3%ADpio+de+Pedreira&uuid=%7B6E772F98-A984-4ED3-A32F-D2ED5635B3C3%7D&layer=Susc_Inund_Pedreira&resource=wms%3Ahttp%3A%2F%2Fgeo.ipt.br%3A8080%2Fgeoserver%2Fiptwms%2Fows%3FSERVICE%3DWMS%26\"> is stale; either the element is no longer attached to the DOM, it is not in the current frame context, or the document has been refreshed\nStacktrace:\nWebDriverError@chrome://remote/content/shared/webdriver/Errors.jsm:183:5\nStaleElementReferenceError@chrome://remote/content/shared/webdriver/Errors.jsm:464:5\nelement.resolveElement@chrome://remote/content/marionette/element.js:681:11\nevaluate.fromJSON@chrome://remote/content/marionette/evaluate.js:254:26\nevaluate.fromJSON/<@chrome://remote/content/marionette/evaluate.js:245:38\nevaluate.fromJSON@chrome://remote/content/marionette/evaluate.js:245:20\nevaluate.fromJSON@chrome://remote/content/marionette/evaluate.js:262:29\nreceiveMessage@chrome://remote/content/marionette/actors/MarionetteCommandsChild.jsm:79:29\n"
     ]
    }
   ],
   "source": [
    "dfs = []\n",
    "# Para cada Assunto\n",
    "for subject in dict_subjects:\n",
    "    # Vai para o Assunto\n",
    "    dict_subjects[subject].click()\n",
    "\n",
    "    # Pega informações da Página\n",
    "    info_page = get_pages()\n",
    "    n_pages = info_page['n_pages']\n",
    "    print('Assunto: \"{}\" tem {} páginas de itens, totalizando {} itens'.format(subject, n_pages, info_page['total_results']))\n",
    "\n",
    "    # Adiciona Dados\n",
    "    temp = get_all_itens(n_pages, subject)\n",
    "    dfs.append(pd.DataFrame(temp))\n",
    "\n",
    "print('Fim')"
   ]
  },
  {
   "cell_type": "code",
   "execution_count": null,
   "id": "eaeb9460-3e67-4726-9964-a9799e0617fe",
   "metadata": {
    "pycharm": {
     "name": "#%%\n"
    }
   },
   "outputs": [],
   "source": [
    "# Results\n",
    "df = pd.concat(dfs)\n",
    "df.to_csv(os.path.join(output_path_tab, 'tab_itens.csv'), index=False)\n",
    "df.head()"
   ]
  },
  {
   "cell_type": "code",
   "execution_count": null,
   "id": "600fce8b-4762-455c-a2b2-8a4807d54207",
   "metadata": {
    "pycharm": {
     "name": "#%%\n"
    }
   },
   "outputs": [],
   "source": [
    "driver.quit()"
   ]
  },
  {
   "cell_type": "code",
   "execution_count": null,
   "id": "4050722e-4b2a-439f-978f-6bbd16806dc7",
   "metadata": {
    "pycharm": {
     "name": "#%%\n"
    }
   },
   "outputs": [],
   "source": []
  }
 ],
 "metadata": {
  "interpreter": {
   "hash": "2bdda54bf0f28693adab761d90c570fb0a7faa3609b365313c0b5d078440c060"
  },
  "kernelspec": {
   "display_name": "Python 3.9.12 ('pablocarreira-py39')",
   "language": "python",
   "name": "python3"
  },
  "language_info": {
   "codemirror_mode": {
    "name": "ipython",
    "version": 3
   },
   "file_extension": ".py",
   "mimetype": "text/x-python",
   "name": "python",
   "nbconvert_exporter": "python",
   "pygments_lexer": "ipython3",
   "version": "3.9.12"
  },
  "toc-autonumbering": true
 },
 "nbformat": 4,
 "nbformat_minor": 5
}
