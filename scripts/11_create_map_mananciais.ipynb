{
 "cells": [
  {
   "cell_type": "markdown",
   "id": "ed28993b-4743-4f8a-8f25-ba0e992f97bd",
   "metadata": {
    "pycharm": {
     "name": "#%% md\n"
    }
   },
   "source": [
    "<br>\n",
    "\n",
    "# Introdução"
   ]
  },
  {
   "cell_type": "code",
   "execution_count": null,
   "id": "48463a25-e0b1-4f99-b6bf-090098c8b336",
   "metadata": {
    "pycharm": {
     "name": "#%%\n"
    }
   },
   "outputs": [],
   "source": [
    "import os\n",
    "import re\n",
    "import sys\n",
    "import folium\n",
    "#import random\n",
    "#import requests\n",
    "#import numpy as np\n",
    "import pandas as pd\n",
    "import seaborn as sns\n",
    "import geopandas as gpd\n",
    "from folium import plugins\n",
    "#from osgeo import gdal, osr\n",
    "from tqdm.notebook import trange, tqdm"
   ]
  },
  {
   "cell_type": "code",
   "execution_count": null,
   "id": "c88aa39b-3c2d-494b-b09a-fb8da3ac8be0",
   "metadata": {},
   "outputs": [],
   "source": [
    "sys.path.append(os.path.join(os.getcwd(), '..', 'src'))"
   ]
  },
  {
   "cell_type": "code",
   "execution_count": null,
   "id": "00aecba9-a7c5-46f9-a625-6ed1704c83f1",
   "metadata": {
    "pycharm": {
     "name": "#%%\n"
    }
   },
   "outputs": [],
   "source": [
    "from paths import *"
   ]
  },
  {
   "cell_type": "code",
   "execution_count": null,
   "id": "f921b2f7-348d-41fe-b71c-d6f58f970341",
   "metadata": {
    "pycharm": {
     "name": "#%%\n"
    }
   },
   "outputs": [],
   "source": [
    "from open_geodata import lyr"
   ]
  },
  {
   "cell_type": "markdown",
   "id": "ca402bd2-7f40-474d-8d3c-459b612c6b1e",
   "metadata": {
    "pycharm": {
     "name": "#%% md\n"
    }
   },
   "source": [
    "<br>\n",
    "\n",
    "## Read Data"
   ]
  },
  {
   "cell_type": "code",
   "execution_count": null,
   "id": "31a2f71e-32a4-40db-a744-d3d456b46532",
   "metadata": {},
   "outputs": [],
   "source": [
    "list_aprms_gpkg = [x for x in os.listdir(output_path) if x.endswith('.gpkg') and x.startswith('sp_datageo_aprm')]"
   ]
  },
  {
   "cell_type": "code",
   "execution_count": null,
   "id": "f051b850-15f6-49ad-a75f-740795aa7327",
   "metadata": {
    "pycharm": {
     "name": "#%%\n"
    }
   },
   "outputs": [],
   "source": [
    "gdf_all = gpd.GeoDataFrame()\n",
    "list_aprms_gdf = []\n",
    "for aprm in list_aprms_gpkg:\n",
    "    nome_aprm = aprm.replace('.gpkg', '')    \n",
    "    gdf = gpd.read_file(os.path.join(output_path, aprm))\n",
    "    list_aprms_gdf.append(gdf)\n",
    "    locals()[nome_aprm] = gdf"
   ]
  },
  {
   "cell_type": "code",
   "execution_count": null,
   "id": "e30a4e84-2036-4f7b-86db-f2c5d9b837d3",
   "metadata": {},
   "outputs": [],
   "source": [
    "print(locals().keys())"
   ]
  },
  {
   "cell_type": "code",
   "execution_count": null,
   "id": "34df99a4-39ff-4180-946e-9eb25c9144be",
   "metadata": {},
   "outputs": [],
   "source": [
    "gdf = gpd.GeoDataFrame(\n",
    "    pd.concat(list_aprms_gdf, ignore_index=True),\n",
    ")\n",
    "gdf = gdf.set_crs(epsg=4326)\n",
    "gdf.head()\n",
    "gdf.info()"
   ]
  },
  {
   "cell_type": "code",
   "execution_count": null,
   "id": "3f3ce4fb-6274-4c36-98ab-279aaa469e0c",
   "metadata": {},
   "outputs": [],
   "source": [
    "gdf.explore()"
   ]
  },
  {
   "cell_type": "code",
   "execution_count": null,
   "id": "9881d84c-47f1-4893-945b-b0f4709fda67",
   "metadata": {},
   "outputs": [],
   "source": [
    "gdf.to_file(\n",
    "    os.path.join(output_path_geo, 'sp_aprms.gpkg'),\n",
    "    layer='aprms',\n",
    "    driver='GPKG'\n",
    ")"
   ]
  },
  {
   "cell_type": "markdown",
   "id": "b1d99773-918f-4184-97ae-9537a5a2924b",
   "metadata": {
    "pycharm": {
     "name": "#%% md\n"
    }
   },
   "source": [
    "<br>\n",
    "\n",
    "## Layer"
   ]
  },
  {
   "cell_type": "code",
   "execution_count": null,
   "id": "e5e1b340-b73c-4659-8ae0-f6e0b0751a1b",
   "metadata": {
    "pycharm": {
     "name": "#%%\n"
    }
   },
   "outputs": [],
   "source": [
    "def lyr_aprms():\n",
    "    # Input\n",
    "    gdf = gpd.read_file(os.path.join(output_path_geo, 'sp_aprms.gpkg'))\n",
    "    gdf = gdf.to_crs(epsg=4326)\n",
    "\n",
    "    # Popup\n",
    "    #gdf['PopUp'] = gdf.apply(popup_html, axis=1)\n",
    "    #gdf['popup'] = gdf.apply(popup_html, axis=1)\n",
    "\n",
    "    # Layer\n",
    "    return folium.GeoJson(\n",
    "        gdf,\n",
    "        name='APRMs',\n",
    "        smooth_factor=1.0,\n",
    "        zoom_on_click=False,\n",
    "        embed=False,\n",
    "        control=True,\n",
    "        show=False,\n",
    "        # style_function=lambda x: {\n",
    "        #     'fillColor': colors[x['properties']['Nome']],\n",
    "        #     'color': colors[x['properties']['agencia']],\n",
    "        #     'weight': 1,\n",
    "        #     'fillOpacity': 0.3,\n",
    "        # },\n",
    "        highlight_function=lambda x: {\n",
    "            'weight': 3,\n",
    "            'fillOpacity': 0.6,\n",
    "        },\n",
    "        tooltip=folium.features.GeoJsonTooltip(\n",
    "            fields=['Nome'],\n",
    "            aliases=['Nome'],\n",
    "            sticky=True,\n",
    "            opacity=0.9,\n",
    "            direction='right',\n",
    "        ),\n",
    "        # popup=folium.GeoJsonPopup(\n",
    "        #     ['popup'],\n",
    "        #     parse_html=False,\n",
    "        #     max_width='400',\n",
    "        #     show=False,\n",
    "        #     labels=False,\n",
    "        #     sticky=True,            \n",
    "        #     # localize=True,\n",
    "        #     # style=f\"\"\"\n",
    "        #     # background-color: #F0EFEF;\n",
    "        #     # \"\"\",           \n",
    "        # )        \n",
    "    )\n",
    "# Add Field\n",
    "def popup_html(row):\n",
    "    tel = str(row['telefone']).replace('-', '').replace(')', '').replace('(', '+55').replace(' ', '')\n",
    "    fax = str(row['fax']).replace('-', '').replace(')', '').replace('(', '+55').replace(' ', '')\n",
    "    \n",
    "    html = \"\"\"\n",
    "    <div>\n",
    "    <p><b>{}</b> pertence à:\n",
    "    <h4><b>{}</b></h4></p>\n",
    "    \n",
    "    <p><b>Sede:</b><br>\n",
    "    {}{}{}<br>\n",
    "    {}\n",
    "    {}\n",
    "    {}</p>\n",
    "    <p><b>Contatos:</b><br>\n",
    "    {}\n",
    "    {}\n",
    "    {}</p>\n",
    "    <p>{}</p>\n",
    "    </div>\n",
    "    \"\"\".format(\n",
    "        '' if pd.isnull(row['municipio_nome']) else '{}'.format(row['municipio_nome']),\n",
    "        '' if pd.isnull(row['agencia'])        else '{}'.format(row['agencia']),\n",
    "        '' if pd.isnull(row['endereco'])       else '{}'.format(row['endereco']),\n",
    "        '' if pd.isnull(row['numero'])         else ', {}'.format(row['numero']),\n",
    "        '' if pd.isnull(row['complemento'])    else ' - {}'.format(row['complemento']),\n",
    "        '' if pd.isnull(row['bairro'])         else 'Bairro: {}<br>'.format(row['bairro']),\n",
    "        '' if pd.isnull(row['municipio_sede']) else 'Município: {}<br>'.format(row['municipio_sede']),\n",
    "        '' if pd.isnull(row['cep'])            else 'CEP: {}<br>'.format(row['cep']),\n",
    "        '' if pd.isnull(row['telefone'])       else 'Telefone: <a href=\"tel:{}\">{}</a><br>'.format(tel, row['telefone']),\n",
    "        '' if pd.isnull(row['fax'])            else 'Fax: <a href=\"tel:{}\">{}</a><br>'.format(fax, row['fax']),\n",
    "        '' if pd.isnull(row['email'])          else 'E-mail: <a href=\"mailto:{}\">{}</a>'.format(row['email'], row['email']),\n",
    "        '' if pd.isnull(row['email'])          else '<a href=\"{}\" target=\"_blank\">Conferir Dados</a>'.format(row['url']),\n",
    "    )\n",
    "    \n",
    "    html = html.replace('\\n','')\n",
    "    html = re.sub('\\s\\s+' , ' ', html) # Remove Espaços no meio\n",
    "    html = html.strip()\n",
    "    return html"
   ]
  },
  {
   "cell_type": "markdown",
   "id": "fbeaa1f4-a7de-43a5-bc37-bc12bd83a43f",
   "metadata": {
    "pycharm": {
     "name": "#%% md\n"
    }
   },
   "source": [
    "<br>\n",
    "\n",
    "## Folium"
   ]
  },
  {
   "cell_type": "code",
   "execution_count": null,
   "id": "064ad1bf-e672-4c7b-a540-65b4a649e4ef",
   "metadata": {
    "pycharm": {
     "name": "#%%\n"
    }
   },
   "outputs": [],
   "source": [
    "def get_map(input_geojson):\n",
    "    # Input\n",
    "    gdf = gpd.read_file(input_geojson)\n",
    "    gdf = gdf.to_crs(epsg=4326)\n",
    "    sw = gdf.bounds[['miny', 'minx']].min().values.tolist()\n",
    "    ne = gdf.bounds[['maxy', 'maxx']].max().values.tolist()\n",
    "    bounds = [sw, ne]\n",
    "    \n",
    "    # Zoom\n",
    "    min_zoom = 8\n",
    "    max_zoom = 21\n",
    "    padding = 1\n",
    "    \n",
    "    # Create Map\n",
    "    m = folium.Map(\n",
    "        min_zoom=min_zoom,\n",
    "        max_zoom=max_zoom,\n",
    "        max_bounds=True,\n",
    "        min_lat=bounds[0][0]*((100+padding)/100),\n",
    "        min_lon=bounds[0][1]*((100+padding)/100),\n",
    "        max_lat=bounds[1][0]*((100-padding)/100),\n",
    "        max_lon=bounds[1][1]*((100-padding)/100),\n",
    "        tiles=None,\n",
    "        # zoom_delta=0.1,\n",
    "        # zoom_start=10,\n",
    "    )\n",
    "    \n",
    "    # Add Layers\n",
    "    m.add_child(lyr.base.google_streets(min_zoom, max_zoom))\n",
    "    m.add_child(lyr.base.google_terrain(min_zoom, max_zoom))\n",
    "    m.add_child(lyr.base.google_hybrid(min_zoom, max_zoom))\n",
    "    m.add_child(lyr.base.google_satellite(min_zoom, max_zoom))\n",
    "\n",
    "    # Monitoramento\n",
    "    m.add_child(lyr_aprms())\n",
    "\n",
    "    # Plugins\n",
    "    m.fit_bounds(bounds)\n",
    "    plugins.Fullscreen(\n",
    "        position='topleft',\n",
    "        title='Clique para Maximizar',\n",
    "        title_cancel='Mininizar',\n",
    "    ).add_to(m)\n",
    "    folium.LayerControl(\n",
    "        position='topright',\n",
    "        collapsed=False,\n",
    "    ).add_to(m)\n",
    "    return m"
   ]
  },
  {
   "cell_type": "code",
   "execution_count": null,
   "id": "635f3e3e-8979-4f0d-a3c2-5457c23396fe",
   "metadata": {
    "pycharm": {
     "name": "#%%\n"
    }
   },
   "outputs": [],
   "source": [
    "# Create Maps\n",
    "m = get_map(\n",
    "    os.path.join(output_path_geo, 'sp_aprms.gpkg'),\n",
    ")\n",
    "\n",
    "# Save\n",
    "m.save(os.path.join(output_path_map, 'aprms_map.html'))\n",
    "m"
   ]
  },
  {
   "cell_type": "code",
   "execution_count": null,
   "id": "7f1e9bab-f67a-4202-99bb-32fe128dff11",
   "metadata": {},
   "outputs": [],
   "source": []
  }
 ],
 "metadata": {
  "interpreter": {
   "hash": "2bdda54bf0f28693adab761d90c570fb0a7faa3609b365313c0b5d078440c060"
  },
  "kernelspec": {
   "display_name": "Python 3 (ipykernel)",
   "language": "python",
   "name": "python3"
  },
  "language_info": {
   "codemirror_mode": {
    "name": "ipython",
    "version": 3
   },
   "file_extension": ".py",
   "mimetype": "text/x-python",
   "name": "python",
   "nbconvert_exporter": "python",
   "pygments_lexer": "ipython3",
   "version": "3.9.12"
  }
 },
 "nbformat": 4,
 "nbformat_minor": 5
}
