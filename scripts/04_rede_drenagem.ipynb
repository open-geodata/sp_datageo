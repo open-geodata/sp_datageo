{
 "cells": [
  {
   "cell_type": "markdown",
   "id": "1b8eecc9-3d09-49b6-84ef-93ddadc26b40",
   "metadata": {},
   "source": [
    "<br>\n",
    "\n",
    "# Introdução"
   ]
  },
  {
   "cell_type": "code",
   "execution_count": null,
   "id": "9631e946-fdb8-4599-840e-74dc2804a4be",
   "metadata": {},
   "outputs": [],
   "source": [
    "import os\n",
    "import sys"
   ]
  },
  {
   "cell_type": "code",
   "execution_count": null,
   "id": "8c282b83-5556-4cab-b16a-10d06ca86a7d",
   "metadata": {},
   "outputs": [],
   "source": [
    "sys.path.append(os.path.join(os.getcwd(), '..', 'src'))\n",
    "from paths import *\n",
    "from get_data_datageo import *"
   ]
  },
  {
   "cell_type": "markdown",
   "id": "85875b8f-717e-42ec-8551-0f963d01100c",
   "metadata": {
    "pycharm": {
     "name": "#%% md\n"
    }
   },
   "source": [
    "<br>\n",
    "\n",
    "## Rede de Drenagem do Estado de São Paulo\n",
    "\n",
    "Deu merda!, fiz manual!"
   ]
  },
  {
   "cell_type": "code",
   "execution_count": null,
   "id": "264f33e5-8001-493b-aefa-bfec9b4b6209",
   "metadata": {
    "pycharm": {
     "name": "#%%\n"
    }
   },
   "outputs": [],
   "source": [
    "# Download\n",
    "id_lyr = '02CEA489-5665-42F1-9F82-155045268681'\n",
    "filename = 'sp_datageo_rede_drenagem'\n",
    "\n",
    "# Get Data\n",
    "get_metadata_file(id_lyr, output_path, filename=filename)\n",
    "#gdf = download_shapefile(id_lyr, output_path, filename=filename)\n",
    "\n",
    "# # Renomeia Colunas\n",
    "# gdf = gdf.rename(\n",
    "#     columns={\n",
    "#         'FITOFISION':'fitofisionomia',\n",
    "#         'IBGE':'cod_ibge',\n",
    "#         'AREAHA':'area_ha'\n",
    "#     }\n",
    "# )\n",
    "\n",
    "# Save\n",
    "#save_gdf(gdf, output_path, filename)"
   ]
  },
  {
   "cell_type": "markdown",
   "id": "877a1fa9-1ec0-4b96-9e82-0c5b42c6cbb7",
   "metadata": {},
   "source": [
    "Fazer\n",
    "\n",
    "1. Pegar aquivo .rar.\n",
    "2. Descompactar\n",
    "3. ddd"
   ]
  },
  {
   "cell_type": "code",
   "execution_count": null,
   "id": "f2ea8681-7d56-46eb-b53d-530115be9a9c",
   "metadata": {},
   "outputs": [],
   "source": []
  }
 ],
 "metadata": {
  "kernelspec": {
   "display_name": "Python [conda env:arcgis-py39]",
   "language": "python",
   "name": "conda-env-arcgis-py39-py"
  },
  "language_info": {
   "codemirror_mode": {
    "name": "ipython",
    "version": 3
   },
   "file_extension": ".py",
   "mimetype": "text/x-python",
   "name": "python",
   "nbconvert_exporter": "python",
   "pygments_lexer": "ipython3",
   "version": "3.9.12"
  }
 },
 "nbformat": 4,
 "nbformat_minor": 5
}
